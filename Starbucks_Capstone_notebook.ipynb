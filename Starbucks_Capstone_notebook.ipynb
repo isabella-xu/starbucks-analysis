{
 "cells": [
  {
   "cell_type": "markdown",
   "metadata": {},
   "source": [
    "# Starbucks Capstone Challenge\n",
    "\n",
    "### Introduction\n",
    "\n",
    "This data set contains simulated data that mimics customer behavior on the Starbucks rewards mobile app. Once every few days, Starbucks sends out an offer to users of the mobile app. An offer can be merely an advertisement for a drink or an actual offer such as a discount or BOGO (buy one get one free). Some users might not receive any offer during certain weeks. \n",
    "\n",
    "Not all users receive the same offer, and that is the challenge to solve with this data set.\n",
    "\n",
    "Your task is to combine transaction, demographic and offer data to determine which demographic groups respond best to which offer type. This data set is a simplified version of the real Starbucks app because the underlying simulator only has one product whereas Starbucks actually sells dozens of products.\n",
    "\n",
    "Every offer has a validity period before the offer expires. As an example, a BOGO offer might be valid for only 5 days. You'll see in the data set that informational offers have a validity period even though these ads are merely providing information about a product; for example, if an informational offer has 7 days of validity, you can assume the customer is feeling the influence of the offer for 7 days after receiving the advertisement.\n",
    "\n",
    "You'll be given transactional data showing user purchases made on the app including the timestamp of purchase and the amount of money spent on a purchase. This transactional data also has a record for each offer that a user receives as well as a record for when a user actually views the offer. There are also records for when a user completes an offer. \n",
    "\n",
    "Keep in mind as well that someone using the app might make a purchase through the app without having received an offer or seen an offer.\n",
    "\n",
    "### Example\n",
    "\n",
    "To give an example, a user could receive a discount offer buy 10 dollars get 2 off on Monday. The offer is valid for 10 days from receipt. If the customer accumulates at least 10 dollars in purchases during the validity period, the customer completes the offer.\n",
    "\n",
    "However, there are a few things to watch out for in this data set. Customers do not opt into the offers that they receive; in other words, a user can receive an offer, never actually view the offer, and still complete the offer. For example, a user might receive the \"buy 10 dollars get 2 dollars off offer\", but the user never opens the offer during the 10 day validity period. The customer spends 15 dollars during those ten days. There will be an offer completion record in the data set; however, the customer was not influenced by the offer because the customer never viewed the offer.\n",
    "\n",
    "### Cleaning\n",
    "\n",
    "This makes data cleaning especially important and tricky.\n",
    "\n",
    "You'll also want to take into account that some demographic groups will make purchases even if they don't receive an offer. From a business perspective, if a customer is going to make a 10 dollar purchase without an offer anyway, you wouldn't want to send a buy 10 dollars get 2 dollars off offer. You'll want to try to assess what a certain demographic group will buy when not receiving any offers.\n",
    "\n",
    "### Final Advice\n",
    "\n",
    "Because this is a capstone project, you are free to analyze the data any way you see fit. For example, you could build a machine learning model that predicts how much someone will spend based on demographics and offer type. Or you could build a model that predicts whether or not someone will respond to an offer. Or, you don't need to build a machine learning model at all. You could develop a set of heuristics that determine what offer you should send to each customer (i.e., 75 percent of women customers who were 35 years old responded to offer A vs 40 percent from the same demographic to offer B, so send offer A)."
   ]
  },
  {
   "cell_type": "markdown",
   "metadata": {},
   "source": [
    "# Data Sets\n",
    "\n",
    "The data is contained in three files:\n",
    "\n",
    "* portfolio.json - containing offer ids and meta data about each offer (duration, type, etc.)\n",
    "* profile.json - demographic data for each customer\n",
    "* transcript.json - records for transactions, offers received, offers viewed, and offers completed\n",
    "\n",
    "Here is the schema and explanation of each variable in the files:\n",
    "\n",
    "**portfolio.json**\n",
    "* id (string) - offer id\n",
    "* offer_type (string) - type of offer ie BOGO, discount, informational\n",
    "* difficulty (int) - minimum required spend to complete an offer\n",
    "* reward (int) - reward given for completing an offer\n",
    "* duration (int) - time for offer to be open, in days\n",
    "* channels (list of strings)\n",
    "\n",
    "**profile.json**\n",
    "* age (int) - age of the customer \n",
    "* became_member_on (int) - date when customer created an app account\n",
    "* gender (str) - gender of the customer (note some entries contain 'O' for other rather than M or F)\n",
    "* id (str) - customer id\n",
    "* income (float) - customer's income\n",
    "\n",
    "**transcript.json**\n",
    "* event (str) - record description (ie transaction, offer received, offer viewed, etc.)\n",
    "* person (str) - customer id\n",
    "* time (int) - time in hours since start of test. The data begins at time t=0\n",
    "* value - (dict of strings) - either an offer id or transaction amount depending on the record\n",
    "\n",
    "**Note:** If you are using the workspace, you will need to go to the terminal and run the command `conda update pandas` before reading in the files. This is because the version of pandas in the workspace cannot read in the transcript.json file correctly, but the newest version of pandas can. You can access the termnal from the orange icon in the top left of this notebook.  \n",
    "\n",
    "You can see how to access the terminal and how the install works using the two images below.  First you need to access the terminal:\n",
    "\n",
    "<img src=\"pic1.png\"/>\n",
    "\n",
    "Then you will want to run the above command:\n",
    "\n",
    "<img src=\"pic2.png\"/>\n",
    "\n",
    "Finally, when you enter back into the notebook (use the jupyter icon again), you should be able to run the below cell without any errors."
   ]
  },
  {
   "cell_type": "markdown",
   "metadata": {},
   "source": [
    "# Business Understanding (Problem Statement)\n",
    "\n",
    "#### Q1. What kind of offers does Starbucks provide? What characristics does each offer type have? \n",
    "#### Q2. What are the demographic characteristics of members?\n",
    "#### Q3. How different do people react to the different promotion offers(transaciton characteristics)?\n",
    "#### Q4. Can we build a prediction engine to help determine what offer we should send to each customer? "
   ]
  },
  {
   "cell_type": "markdown",
   "metadata": {},
   "source": [
    "# Data Understanding -- EDA"
   ]
  },
  {
   "cell_type": "code",
   "execution_count": 1,
   "metadata": {},
   "outputs": [],
   "source": [
    "import pandas as pd\n",
    "import numpy as np\n",
    "import math\n",
    "import json\n",
    "import seaborn as sns\n",
    "import matplotlib.pyplot as plt\n",
    "import warnings\n",
    "import datetime\n",
    "\n",
    "from sklearn.model_selection import train_test_split, cross_val_score\n",
    "from sklearn.ensemble import RandomForestClassifier\n",
    "from sklearn.tree import DecisionTreeClassifier\n",
    "from sklearn.neighbors import KNeighborsClassifier\n",
    "from sklearn.metrics import accuracy_score, precision_score, fbeta_score, recall_score,confusion_matrix, classification_report \\\n",
    ",roc_auc_score\n",
    "from sklearn.model_selection import GridSearchCV\n",
    "from sklearn import svm\n",
    "\n",
    "%matplotlib inline"
   ]
  },
  {
   "cell_type": "code",
   "execution_count": 2,
   "metadata": {},
   "outputs": [],
   "source": [
    "# read in the json files\n",
    "portfolio = pd.read_json('data/portfolio.json', orient='records', lines=True)\n",
    "profile = pd.read_json('data/profile.json', orient='records', lines=True)\n",
    "transcript = pd.read_json('data/transcript.json', orient='records', lines=True)"
   ]
  },
  {
   "cell_type": "markdown",
   "metadata": {},
   "source": [
    "## portfolio dataset"
   ]
  },
  {
   "cell_type": "code",
   "execution_count": 3,
   "metadata": {},
   "outputs": [
    {
     "data": {
      "text/html": [
       "<div>\n",
       "<style scoped>\n",
       "    .dataframe tbody tr th:only-of-type {\n",
       "        vertical-align: middle;\n",
       "    }\n",
       "\n",
       "    .dataframe tbody tr th {\n",
       "        vertical-align: top;\n",
       "    }\n",
       "\n",
       "    .dataframe thead th {\n",
       "        text-align: right;\n",
       "    }\n",
       "</style>\n",
       "<table border=\"1\" class=\"dataframe\">\n",
       "  <thead>\n",
       "    <tr style=\"text-align: right;\">\n",
       "      <th></th>\n",
       "      <th>reward</th>\n",
       "      <th>channels</th>\n",
       "      <th>difficulty</th>\n",
       "      <th>duration</th>\n",
       "      <th>offer_type</th>\n",
       "      <th>id</th>\n",
       "    </tr>\n",
       "  </thead>\n",
       "  <tbody>\n",
       "    <tr>\n",
       "      <th>0</th>\n",
       "      <td>10</td>\n",
       "      <td>[email, mobile, social]</td>\n",
       "      <td>10</td>\n",
       "      <td>7</td>\n",
       "      <td>bogo</td>\n",
       "      <td>ae264e3637204a6fb9bb56bc8210ddfd</td>\n",
       "    </tr>\n",
       "    <tr>\n",
       "      <th>1</th>\n",
       "      <td>10</td>\n",
       "      <td>[web, email, mobile, social]</td>\n",
       "      <td>10</td>\n",
       "      <td>5</td>\n",
       "      <td>bogo</td>\n",
       "      <td>4d5c57ea9a6940dd891ad53e9dbe8da0</td>\n",
       "    </tr>\n",
       "    <tr>\n",
       "      <th>2</th>\n",
       "      <td>0</td>\n",
       "      <td>[web, email, mobile]</td>\n",
       "      <td>0</td>\n",
       "      <td>4</td>\n",
       "      <td>informational</td>\n",
       "      <td>3f207df678b143eea3cee63160fa8bed</td>\n",
       "    </tr>\n",
       "    <tr>\n",
       "      <th>3</th>\n",
       "      <td>5</td>\n",
       "      <td>[web, email, mobile]</td>\n",
       "      <td>5</td>\n",
       "      <td>7</td>\n",
       "      <td>bogo</td>\n",
       "      <td>9b98b8c7a33c4b65b9aebfe6a799e6d9</td>\n",
       "    </tr>\n",
       "    <tr>\n",
       "      <th>4</th>\n",
       "      <td>5</td>\n",
       "      <td>[web, email]</td>\n",
       "      <td>20</td>\n",
       "      <td>10</td>\n",
       "      <td>discount</td>\n",
       "      <td>0b1e1539f2cc45b7b9fa7c272da2e1d7</td>\n",
       "    </tr>\n",
       "    <tr>\n",
       "      <th>5</th>\n",
       "      <td>3</td>\n",
       "      <td>[web, email, mobile, social]</td>\n",
       "      <td>7</td>\n",
       "      <td>7</td>\n",
       "      <td>discount</td>\n",
       "      <td>2298d6c36e964ae4a3e7e9706d1fb8c2</td>\n",
       "    </tr>\n",
       "    <tr>\n",
       "      <th>6</th>\n",
       "      <td>2</td>\n",
       "      <td>[web, email, mobile, social]</td>\n",
       "      <td>10</td>\n",
       "      <td>10</td>\n",
       "      <td>discount</td>\n",
       "      <td>fafdcd668e3743c1bb461111dcafc2a4</td>\n",
       "    </tr>\n",
       "    <tr>\n",
       "      <th>7</th>\n",
       "      <td>0</td>\n",
       "      <td>[email, mobile, social]</td>\n",
       "      <td>0</td>\n",
       "      <td>3</td>\n",
       "      <td>informational</td>\n",
       "      <td>5a8bc65990b245e5a138643cd4eb9837</td>\n",
       "    </tr>\n",
       "    <tr>\n",
       "      <th>8</th>\n",
       "      <td>5</td>\n",
       "      <td>[web, email, mobile, social]</td>\n",
       "      <td>5</td>\n",
       "      <td>5</td>\n",
       "      <td>bogo</td>\n",
       "      <td>f19421c1d4aa40978ebb69ca19b0e20d</td>\n",
       "    </tr>\n",
       "    <tr>\n",
       "      <th>9</th>\n",
       "      <td>2</td>\n",
       "      <td>[web, email, mobile]</td>\n",
       "      <td>10</td>\n",
       "      <td>7</td>\n",
       "      <td>discount</td>\n",
       "      <td>2906b810c7d4411798c6938adc9daaa5</td>\n",
       "    </tr>\n",
       "  </tbody>\n",
       "</table>\n",
       "</div>"
      ],
      "text/plain": [
       "   reward                      channels  difficulty  duration     offer_type  \\\n",
       "0      10       [email, mobile, social]          10         7           bogo   \n",
       "1      10  [web, email, mobile, social]          10         5           bogo   \n",
       "2       0          [web, email, mobile]           0         4  informational   \n",
       "3       5          [web, email, mobile]           5         7           bogo   \n",
       "4       5                  [web, email]          20        10       discount   \n",
       "5       3  [web, email, mobile, social]           7         7       discount   \n",
       "6       2  [web, email, mobile, social]          10        10       discount   \n",
       "7       0       [email, mobile, social]           0         3  informational   \n",
       "8       5  [web, email, mobile, social]           5         5           bogo   \n",
       "9       2          [web, email, mobile]          10         7       discount   \n",
       "\n",
       "                                 id  \n",
       "0  ae264e3637204a6fb9bb56bc8210ddfd  \n",
       "1  4d5c57ea9a6940dd891ad53e9dbe8da0  \n",
       "2  3f207df678b143eea3cee63160fa8bed  \n",
       "3  9b98b8c7a33c4b65b9aebfe6a799e6d9  \n",
       "4  0b1e1539f2cc45b7b9fa7c272da2e1d7  \n",
       "5  2298d6c36e964ae4a3e7e9706d1fb8c2  \n",
       "6  fafdcd668e3743c1bb461111dcafc2a4  \n",
       "7  5a8bc65990b245e5a138643cd4eb9837  \n",
       "8  f19421c1d4aa40978ebb69ca19b0e20d  \n",
       "9  2906b810c7d4411798c6938adc9daaa5  "
      ]
     },
     "execution_count": 3,
     "metadata": {},
     "output_type": "execute_result"
    }
   ],
   "source": [
    "portfolio"
   ]
  },
  {
   "cell_type": "code",
   "execution_count": 4,
   "metadata": {},
   "outputs": [
    {
     "name": "stdout",
     "output_type": "stream",
     "text": [
      "<class 'pandas.core.frame.DataFrame'>\n",
      "RangeIndex: 10 entries, 0 to 9\n",
      "Data columns (total 6 columns):\n",
      " #   Column      Non-Null Count  Dtype \n",
      "---  ------      --------------  ----- \n",
      " 0   reward      10 non-null     int64 \n",
      " 1   channels    10 non-null     object\n",
      " 2   difficulty  10 non-null     int64 \n",
      " 3   duration    10 non-null     int64 \n",
      " 4   offer_type  10 non-null     object\n",
      " 5   id          10 non-null     object\n",
      "dtypes: int64(3), object(3)\n",
      "memory usage: 608.0+ bytes\n"
     ]
    }
   ],
   "source": [
    "portfolio.info()"
   ]
  },
  {
   "cell_type": "code",
   "execution_count": 5,
   "metadata": {},
   "outputs": [
    {
     "data": {
      "text/html": [
       "<div>\n",
       "<style scoped>\n",
       "    .dataframe tbody tr th:only-of-type {\n",
       "        vertical-align: middle;\n",
       "    }\n",
       "\n",
       "    .dataframe tbody tr th {\n",
       "        vertical-align: top;\n",
       "    }\n",
       "\n",
       "    .dataframe thead th {\n",
       "        text-align: right;\n",
       "    }\n",
       "</style>\n",
       "<table border=\"1\" class=\"dataframe\">\n",
       "  <thead>\n",
       "    <tr style=\"text-align: right;\">\n",
       "      <th></th>\n",
       "      <th>reward</th>\n",
       "      <th>difficulty</th>\n",
       "      <th>duration</th>\n",
       "    </tr>\n",
       "  </thead>\n",
       "  <tbody>\n",
       "    <tr>\n",
       "      <th>count</th>\n",
       "      <td>10.000000</td>\n",
       "      <td>10.000000</td>\n",
       "      <td>10.000000</td>\n",
       "    </tr>\n",
       "    <tr>\n",
       "      <th>mean</th>\n",
       "      <td>4.200000</td>\n",
       "      <td>7.700000</td>\n",
       "      <td>6.500000</td>\n",
       "    </tr>\n",
       "    <tr>\n",
       "      <th>std</th>\n",
       "      <td>3.583915</td>\n",
       "      <td>5.831905</td>\n",
       "      <td>2.321398</td>\n",
       "    </tr>\n",
       "    <tr>\n",
       "      <th>min</th>\n",
       "      <td>0.000000</td>\n",
       "      <td>0.000000</td>\n",
       "      <td>3.000000</td>\n",
       "    </tr>\n",
       "    <tr>\n",
       "      <th>25%</th>\n",
       "      <td>2.000000</td>\n",
       "      <td>5.000000</td>\n",
       "      <td>5.000000</td>\n",
       "    </tr>\n",
       "    <tr>\n",
       "      <th>50%</th>\n",
       "      <td>4.000000</td>\n",
       "      <td>8.500000</td>\n",
       "      <td>7.000000</td>\n",
       "    </tr>\n",
       "    <tr>\n",
       "      <th>75%</th>\n",
       "      <td>5.000000</td>\n",
       "      <td>10.000000</td>\n",
       "      <td>7.000000</td>\n",
       "    </tr>\n",
       "    <tr>\n",
       "      <th>max</th>\n",
       "      <td>10.000000</td>\n",
       "      <td>20.000000</td>\n",
       "      <td>10.000000</td>\n",
       "    </tr>\n",
       "  </tbody>\n",
       "</table>\n",
       "</div>"
      ],
      "text/plain": [
       "          reward  difficulty   duration\n",
       "count  10.000000   10.000000  10.000000\n",
       "mean    4.200000    7.700000   6.500000\n",
       "std     3.583915    5.831905   2.321398\n",
       "min     0.000000    0.000000   3.000000\n",
       "25%     2.000000    5.000000   5.000000\n",
       "50%     4.000000    8.500000   7.000000\n",
       "75%     5.000000   10.000000   7.000000\n",
       "max    10.000000   20.000000  10.000000"
      ]
     },
     "execution_count": 5,
     "metadata": {},
     "output_type": "execute_result"
    }
   ],
   "source": [
    "portfolio.describe()"
   ]
  },
  {
   "cell_type": "code",
   "execution_count": 6,
   "metadata": {},
   "outputs": [
    {
     "data": {
      "text/plain": [
       "reward        0\n",
       "channels      0\n",
       "difficulty    0\n",
       "duration      0\n",
       "offer_type    0\n",
       "id            0\n",
       "dtype: int64"
      ]
     },
     "execution_count": 6,
     "metadata": {},
     "output_type": "execute_result"
    }
   ],
   "source": [
    "portfolio.isnull().sum()"
   ]
  },
  {
   "cell_type": "code",
   "execution_count": 7,
   "metadata": {},
   "outputs": [
    {
     "data": {
      "image/png": "[encoded data removed]",
      "text/plain": [
       "<Figure size 432x288 with 1 Axes>"
      ]
     },
     "metadata": {
      "needs_background": "light"
     },
     "output_type": "display_data"
    }
   ],
   "source": [
    "# Count offers by offer type\n",
    "portfolio['offer_type'].value_counts().plot.bar(title='Distribution of Offer Type', color='tab:blue');"
   ]
  },
  {
   "cell_type": "code",
   "execution_count": 8,
   "metadata": {},
   "outputs": [
    {
     "data": {
      "image/png": "[encoded data removed]",
      "text/plain": [
       "<Figure size 1152x288 with 3 Axes>"
      ]
     },
     "metadata": {
      "needs_background": "light"
     },
     "output_type": "display_data"
    }
   ],
   "source": [
    "# Explore by offer type\n",
    "\n",
    "plt.figure(figsize=[16,4])\n",
    "color = sns.color_palette()[0]\n",
    "sns.set_style(\"white\")\n",
    "\n",
    "plt.subplot(1,3,1)\n",
    "portfolio.groupby('offer_type')['difficulty'].mean().plot(kind='bar', color=color)\n",
    "plt.title('Avg Difficulty to Complete Reward By Offer Type')\n",
    "plt.ylabel('USD')\n",
    "plt.xticks(rotation=45);\n",
    "\n",
    "plt.subplot(1,3,2)\n",
    "portfolio.groupby('offer_type')['reward'].mean().plot(kind='bar', color=color)\n",
    "plt.title('Avg Amount of Reward By Offer Type')\n",
    "plt.ylabel('USD')\n",
    "plt.xticks(rotation=45);\n",
    "\n",
    "plt.subplot(1,3,3)\n",
    "portfolio.groupby('offer_type')['duration'].mean().plot(kind='bar', color=color)\n",
    "plt.title('Avg Days By Offer Type')\n",
    "plt.ylabel('Days')\n",
    "plt.xticks(rotation=45);"
   ]
  },
  {
   "cell_type": "code",
   "execution_count": 9,
   "metadata": {},
   "outputs": [],
   "source": [
    "# test = portfolio.join(portfolio.channels.str.join('|').str.get_dummies())\n",
    "# test.head()"
   ]
  },
  {
   "cell_type": "markdown",
   "metadata": {},
   "source": [
    "### portfolio dataset EDA Insight\n",
    "\n",
    "- 10 rows, 6 columns in total\n",
    "- no missing value and duplicates\n",
    "- the content of channel column may need to split into columns(4 channels)"
   ]
  },
  {
   "cell_type": "markdown",
   "metadata": {},
   "source": [
    "## profile dataset"
   ]
  },
  {
   "cell_type": "code",
   "execution_count": 10,
   "metadata": {},
   "outputs": [
    {
     "data": {
      "text/html": [
       "<div>\n",
       "<style scoped>\n",
       "    .dataframe tbody tr th:only-of-type {\n",
       "        vertical-align: middle;\n",
       "    }\n",
       "\n",
       "    .dataframe tbody tr th {\n",
       "        vertical-align: top;\n",
       "    }\n",
       "\n",
       "    .dataframe thead th {\n",
       "        text-align: right;\n",
       "    }\n",
       "</style>\n",
       "<table border=\"1\" class=\"dataframe\">\n",
       "  <thead>\n",
       "    <tr style=\"text-align: right;\">\n",
       "      <th></th>\n",
       "      <th>gender</th>\n",
       "      <th>age</th>\n",
       "      <th>id</th>\n",
       "      <th>became_member_on</th>\n",
       "      <th>income</th>\n",
       "    </tr>\n",
       "  </thead>\n",
       "  <tbody>\n",
       "    <tr>\n",
       "      <th>0</th>\n",
       "      <td>None</td>\n",
       "      <td>118</td>\n",
       "      <td>68be06ca386d4c31939f3a4f0e3dd783</td>\n",
       "      <td>20170212</td>\n",
       "      <td>NaN</td>\n",
       "    </tr>\n",
       "    <tr>\n",
       "      <th>1</th>\n",
       "      <td>F</td>\n",
       "      <td>55</td>\n",
       "      <td>0610b486422d4921ae7d2bf64640c50b</td>\n",
       "      <td>20170715</td>\n",
       "      <td>112000.0</td>\n",
       "    </tr>\n",
       "    <tr>\n",
       "      <th>2</th>\n",
       "      <td>None</td>\n",
       "      <td>118</td>\n",
       "      <td>38fe809add3b4fcf9315a9694bb96ff5</td>\n",
       "      <td>20180712</td>\n",
       "      <td>NaN</td>\n",
       "    </tr>\n",
       "    <tr>\n",
       "      <th>3</th>\n",
       "      <td>F</td>\n",
       "      <td>75</td>\n",
       "      <td>78afa995795e4d85b5d9ceeca43f5fef</td>\n",
       "      <td>20170509</td>\n",
       "      <td>100000.0</td>\n",
       "    </tr>\n",
       "    <tr>\n",
       "      <th>4</th>\n",
       "      <td>None</td>\n",
       "      <td>118</td>\n",
       "      <td>a03223e636434f42ac4c3df47e8bac43</td>\n",
       "      <td>20170804</td>\n",
       "      <td>NaN</td>\n",
       "    </tr>\n",
       "  </tbody>\n",
       "</table>\n",
       "</div>"
      ],
      "text/plain": [
       "  gender  age                                id  became_member_on    income\n",
       "0   None  118  68be06ca386d4c31939f3a4f0e3dd783          20170212       NaN\n",
       "1      F   55  0610b486422d4921ae7d2bf64640c50b          20170715  112000.0\n",
       "2   None  118  38fe809add3b4fcf9315a9694bb96ff5          20180712       NaN\n",
       "3      F   75  78afa995795e4d85b5d9ceeca43f5fef          20170509  100000.0\n",
       "4   None  118  a03223e636434f42ac4c3df47e8bac43          20170804       NaN"
      ]
     },
     "execution_count": 10,
     "metadata": {},
     "output_type": "execute_result"
    }
   ],
   "source": [
    "profile.head()"
   ]
  },
  {
   "cell_type": "code",
   "execution_count": 11,
   "metadata": {},
   "outputs": [
    {
     "name": "stdout",
     "output_type": "stream",
     "text": [
      "<class 'pandas.core.frame.DataFrame'>\n",
      "RangeIndex: 17000 entries, 0 to 16999\n",
      "Data columns (total 5 columns):\n",
      " #   Column            Non-Null Count  Dtype  \n",
      "---  ------            --------------  -----  \n",
      " 0   gender            14825 non-null  object \n",
      " 1   age               17000 non-null  int64  \n",
      " 2   id                17000 non-null  object \n",
      " 3   became_member_on  17000 non-null  int64  \n",
      " 4   income            14825 non-null  float64\n",
      "dtypes: float64(1), int64(2), object(2)\n",
      "memory usage: 664.2+ KB\n"
     ]
    }
   ],
   "source": [
    "profile.info()"
   ]
  },
  {
   "cell_type": "code",
   "execution_count": 12,
   "metadata": {},
   "outputs": [
    {
     "data": {
      "text/html": [
       "<div>\n",
       "<style scoped>\n",
       "    .dataframe tbody tr th:only-of-type {\n",
       "        vertical-align: middle;\n",
       "    }\n",
       "\n",
       "    .dataframe tbody tr th {\n",
       "        vertical-align: top;\n",
       "    }\n",
       "\n",
       "    .dataframe thead th {\n",
       "        text-align: right;\n",
       "    }\n",
       "</style>\n",
       "<table border=\"1\" class=\"dataframe\">\n",
       "  <thead>\n",
       "    <tr style=\"text-align: right;\">\n",
       "      <th></th>\n",
       "      <th>age</th>\n",
       "      <th>became_member_on</th>\n",
       "      <th>income</th>\n",
       "    </tr>\n",
       "  </thead>\n",
       "  <tbody>\n",
       "    <tr>\n",
       "      <th>count</th>\n",
       "      <td>17000.000000</td>\n",
       "      <td>1.700000e+04</td>\n",
       "      <td>14825.000000</td>\n",
       "    </tr>\n",
       "    <tr>\n",
       "      <th>mean</th>\n",
       "      <td>62.531412</td>\n",
       "      <td>2.016703e+07</td>\n",
       "      <td>65404.991568</td>\n",
       "    </tr>\n",
       "    <tr>\n",
       "      <th>std</th>\n",
       "      <td>26.738580</td>\n",
       "      <td>1.167750e+04</td>\n",
       "      <td>21598.299410</td>\n",
       "    </tr>\n",
       "    <tr>\n",
       "      <th>min</th>\n",
       "      <td>18.000000</td>\n",
       "      <td>2.013073e+07</td>\n",
       "      <td>30000.000000</td>\n",
       "    </tr>\n",
       "    <tr>\n",
       "      <th>25%</th>\n",
       "      <td>45.000000</td>\n",
       "      <td>2.016053e+07</td>\n",
       "      <td>49000.000000</td>\n",
       "    </tr>\n",
       "    <tr>\n",
       "      <th>50%</th>\n",
       "      <td>58.000000</td>\n",
       "      <td>2.017080e+07</td>\n",
       "      <td>64000.000000</td>\n",
       "    </tr>\n",
       "    <tr>\n",
       "      <th>75%</th>\n",
       "      <td>73.000000</td>\n",
       "      <td>2.017123e+07</td>\n",
       "      <td>80000.000000</td>\n",
       "    </tr>\n",
       "    <tr>\n",
       "      <th>max</th>\n",
       "      <td>118.000000</td>\n",
       "      <td>2.018073e+07</td>\n",
       "      <td>120000.000000</td>\n",
       "    </tr>\n",
       "  </tbody>\n",
       "</table>\n",
       "</div>"
      ],
      "text/plain": [
       "                age  became_member_on         income\n",
       "count  17000.000000      1.700000e+04   14825.000000\n",
       "mean      62.531412      2.016703e+07   65404.991568\n",
       "std       26.738580      1.167750e+04   21598.299410\n",
       "min       18.000000      2.013073e+07   30000.000000\n",
       "25%       45.000000      2.016053e+07   49000.000000\n",
       "50%       58.000000      2.017080e+07   64000.000000\n",
       "75%       73.000000      2.017123e+07   80000.000000\n",
       "max      118.000000      2.018073e+07  120000.000000"
      ]
     },
     "execution_count": 12,
     "metadata": {},
     "output_type": "execute_result"
    }
   ],
   "source": [
    "profile.describe()"
   ]
  },
  {
   "cell_type": "code",
   "execution_count": 13,
   "metadata": {},
   "outputs": [
    {
     "data": {
      "text/plain": [
       "gender              2175\n",
       "age                    0\n",
       "id                     0\n",
       "became_member_on       0\n",
       "income              2175\n",
       "dtype: int64"
      ]
     },
     "execution_count": 13,
     "metadata": {},
     "output_type": "execute_result"
    }
   ],
   "source": [
    "profile.isnull().sum()"
   ]
  },
  {
   "cell_type": "code",
   "execution_count": 14,
   "metadata": {},
   "outputs": [
    {
     "data": {
      "text/plain": [
       "0"
      ]
     },
     "execution_count": 14,
     "metadata": {},
     "output_type": "execute_result"
    }
   ],
   "source": [
    "# check duplicates\n",
    "\n",
    "profile.id.duplicated().sum()"
   ]
  },
  {
   "cell_type": "code",
   "execution_count": 62,
   "metadata": {},
   "outputs": [
    {
     "data": {
      "image/png": "[encoded data removed]",
      "text/plain": [
       "<Figure size 1440x360 with 3 Axes>"
      ]
     },
     "metadata": {},
     "output_type": "display_data"
    }
   ],
   "source": [
    "# Explore member distribution\n",
    "\n",
    "plt.figure(figsize=[20,5])\n",
    "color = sns.color_palette()[0]\n",
    "sns.set_style(\"white\")\n",
    "\n",
    "plt.subplot(1,3,1)\n",
    "profile['age'].hist(bins=20, color=color)\n",
    "plt.title('Distribution of Member Age')\n",
    "plt.ylabel('Count');\n",
    "\n",
    "plt.subplot(1,3,2)\n",
    "profile['gender'].value_counts().plot(kind='bar', color=color)\n",
    "plt.title('Distribution of Member Gender')\n",
    "plt.ylabel('Count');\n",
    "\n",
    "plt.subplot(1,3,3)\n",
    "profile['income'].hist(bins=20, color=color)\n",
    "plt.title('Distribution Of Memeber Income')\n",
    "plt.ylabel('Count');"
   ]
  },
  {
   "cell_type": "code",
   "execution_count": 16,
   "metadata": {},
   "outputs": [
    {
     "name": "stdout",
     "output_type": "stream",
     "text": [
      "The amount of missing values in gender column: 2175\n",
      "The amount of missing values in income column: 2175\n",
      "The number of outliers age in 118: 2175\n",
      "The number of records which has age in 118 and missing value in both gender and income columns\n",
      "Missing value percentage in the dataset: 0.13\n"
     ]
    },
    {
     "data": {
      "text/html": [
       "<div>\n",
       "<style scoped>\n",
       "    .dataframe tbody tr th:only-of-type {\n",
       "        vertical-align: middle;\n",
       "    }\n",
       "\n",
       "    .dataframe tbody tr th {\n",
       "        vertical-align: top;\n",
       "    }\n",
       "\n",
       "    .dataframe thead th {\n",
       "        text-align: right;\n",
       "    }\n",
       "</style>\n",
       "<table border=\"1\" class=\"dataframe\">\n",
       "  <thead>\n",
       "    <tr style=\"text-align: right;\">\n",
       "      <th></th>\n",
       "      <th>gender</th>\n",
       "      <th>age</th>\n",
       "      <th>id</th>\n",
       "      <th>became_member_on</th>\n",
       "      <th>income</th>\n",
       "    </tr>\n",
       "  </thead>\n",
       "  <tbody>\n",
       "    <tr>\n",
       "      <th>5990</th>\n",
       "      <td>None</td>\n",
       "      <td>118</td>\n",
       "      <td>47abadbaaee341bb88b46de222ba4a39</td>\n",
       "      <td>20170730</td>\n",
       "      <td>NaN</td>\n",
       "    </tr>\n",
       "    <tr>\n",
       "      <th>26</th>\n",
       "      <td>None</td>\n",
       "      <td>118</td>\n",
       "      <td>65aba5c617294649aeb624da249e1ee5</td>\n",
       "      <td>20170330</td>\n",
       "      <td>NaN</td>\n",
       "    </tr>\n",
       "    <tr>\n",
       "      <th>15644</th>\n",
       "      <td>None</td>\n",
       "      <td>118</td>\n",
       "      <td>4911462378c34cefa51ddbc0cf9f22c6</td>\n",
       "      <td>20170815</td>\n",
       "      <td>NaN</td>\n",
       "    </tr>\n",
       "  </tbody>\n",
       "</table>\n",
       "</div>"
      ],
      "text/plain": [
       "      gender  age                                id  became_member_on  income\n",
       "5990    None  118  47abadbaaee341bb88b46de222ba4a39          20170730     NaN\n",
       "26      None  118  65aba5c617294649aeb624da249e1ee5          20170330     NaN\n",
       "15644   None  118  4911462378c34cefa51ddbc0cf9f22c6          20170815     NaN"
      ]
     },
     "execution_count": 16,
     "metadata": {},
     "output_type": "execute_result"
    }
   ],
   "source": [
    "# Check outliers in age\n",
    "\n",
    "print('The amount of missing values in gender column: {}'.format(profile.gender.isnull().sum()))\n",
    "print('The amount of missing values in income column: {}'.format(profile.income.isnull().sum()))\n",
    "print('The number of outliers age in 118: {}'.format(profile[profile.age == 118]['id'].count()))\n",
    "\n",
    "profile_missing_data = profile[(profile.age == 118) & (profile.gender.isnull()) & (profile.income.isnull())]\n",
    "print('The number of records which has age in 118 and missing value in both gender and income columns'\\\n",
    "    .format(len(profile_missing_data)))\n",
    "print('Missing value percentage in the dataset: {:.2f}'.format(len(profile_missing_data) / profile.shape[0]))\n",
    "profile_missing_data.sample(3)\n"
   ]
  },
  {
   "cell_type": "code",
   "execution_count": 17,
   "metadata": {},
   "outputs": [
    {
     "name": "stdout",
     "output_type": "stream",
     "text": [
      "(17000, 5) records BEFORE drop missing values\n",
      "(14825, 5) records AFTER drop missing values\n"
     ]
    },
    {
     "data": {
      "text/plain": [
       "gender              0\n",
       "age                 0\n",
       "id                  0\n",
       "became_member_on    0\n",
       "income              0\n",
       "dtype: int64"
      ]
     },
     "execution_count": 17,
     "metadata": {},
     "output_type": "execute_result"
    }
   ],
   "source": [
    "# drop missing value rows\n",
    "\n",
    "print('{} records BEFORE drop missing values'.format(profile.shape))\n",
    "profile = profile.dropna(how='any')\n",
    "print('{} records AFTER drop missing values'.format(profile.shape))\n",
    "profile.isnull().sum()"
   ]
  },
  {
   "cell_type": "code",
   "execution_count": 18,
   "metadata": {},
   "outputs": [],
   "source": [
    "# Assign customers to groups based on age and income\n",
    "\n",
    "def assign_age_group(df=profile):\n",
    "    '''\n",
    "    INPUT:\n",
    "    df - a dataframe contains age column\n",
    "    \n",
    "    OUTPUT:\n",
    "    df - a dataframe convert age to age_group column\n",
    "    '''\n",
    "    df.loc[(df.age < 20) , 'age_group'] = '<20'\n",
    "    df.loc[(df.age >= 20) & (df.age <= 29) , 'age_group'] = '20-29'\n",
    "    df.loc[(df.age >= 30) & (df.age <= 39) , 'age_group'] = '30-39'\n",
    "    df.loc[(df.age >= 40) & (df.age <= 49) , 'age_group'] = '40-49'\n",
    "    df.loc[(df.age >= 50) & (df.age <= 59) , 'age_group'] = '50-59'\n",
    "    df.loc[(df.age >= 60) & (df.age <= 69) , 'age_group'] = '60-69'\n",
    "    df.loc[(df.age >= 70) , 'age_group'] = '>=70'\n",
    "    #df.drop('age',axis=1,inplace=True)\n",
    "    \n",
    "    return df\n",
    "\n",
    "def assign_income_group(df=profile):\n",
    "    '''\n",
    "    INPUT:\n",
    "    df - a dataframe contains income column\n",
    "    \n",
    "    OUTPUT:\n",
    "    df - a dataframe convert income to income_group column\n",
    "    '''\n",
    "    df.loc[(df.income < 50000) , 'income_group'] = '<50k'\n",
    "    df.loc[(df.income >= 50000) & (df.income < 80000) , 'income_group'] = '50k-80k'\n",
    "    df.loc[(df.income >= 80000) & (df.income < 100000) , 'income_group'] = '80k-100k'\n",
    "    df.loc[(df.income >= 100000), 'income_group'] = '>=100k'\n",
    "    #df.drop('income',axis=1,inplace=True)\n",
    "    \n",
    "    return df\n",
    "\n",
    "profile = assign_age_group(profile)\n",
    "profile = assign_income_group(profile)"
   ]
  },
  {
   "cell_type": "code",
   "execution_count": 19,
   "metadata": {},
   "outputs": [],
   "source": [
    "#  deal with date in became_member_on column\n",
    "\n",
    "def clean_became_member_on(df=profile):\n",
    "    '''\n",
    "    INPUT:\n",
    "    df - a dataframe contains became_member_on column\n",
    "    \n",
    "    OUTPUT:\n",
    "    df - a dataframe convert became_member_on column to datetime type and add a new column named membership_in_years to\n",
    "         to record membership duration in years.\n",
    "    '''\n",
    "    #  convert became_member_on to datetime data tpe\n",
    "    df['became_member_on'] = pd.to_datetime(df['became_member_on'], format='%Y%m%d')\n",
    "\n",
    "    # Add a new column membership_in_years to calculate the duration since became a member\n",
    "    df['membership_in_years'] = datetime.datetime.today().date() - df['became_member_on'].dt.date\n",
    "    df['membership_in_years'] = round(df['membership_in_years'].dt.days / 365, 1)\n",
    "    \n",
    "    # Add a new column member_since to record the year when became a member\n",
    "    df['member_since'] = df['became_member_on'].dt.year\n",
    "    \n",
    "    return df\n",
    "\n",
    "profile = clean_became_member_on(profile)\n",
    "    "
   ]
  },
  {
   "cell_type": "code",
   "execution_count": 59,
   "metadata": {},
   "outputs": [
    {
     "data": {
      "image/png": "[encoded data removed]",
      "text/plain": [
       "<Figure size 1584x1008 with 6 Axes>"
      ]
     },
     "metadata": {},
     "output_type": "display_data"
    }
   ],
   "source": [
    "# Visualize data by age_groups, income_group, year after cleaned Profile data\n",
    "\n",
    "plt.figure(figsize = [22,14])\n",
    "age_order = ['<20', '20-29', '30-39', '40-49', '50-59', '60-69', '>=70']\n",
    "income_order = ['<50k', '50k-80k', '80k-100k', '>=100k']\n",
    "\n",
    "sns.set_style(\"whitegrid\")\n",
    "sns.set_palette(\"Paired\")\n",
    "plt.subplot(2,3,1)\n",
    "sns.countplot(data = profile, x = 'age_group', hue = 'gender', order = age_order)\n",
    "plt.legend(loc='upper right')\n",
    "plt.title('Age Distribution of Customers')\n",
    "plt.ylabel('count')\n",
    "plt.xlabel('Age Group');\n",
    "\n",
    "plt.subplot(2,3,2)\n",
    "sns.countplot(data = profile, x = 'income_group', hue = 'gender', order = income_order)\n",
    "plt.title('Income Distribution of Customers')\n",
    "plt.ylabel('count')\n",
    "plt.xlabel('Income Level');\n",
    "\n",
    "plt.subplot(2,3,3)\n",
    "sns.countplot(data = profile, x = 'member_since', hue = 'gender')\n",
    "plt.title('Membership Start Year')\n",
    "plt.ylabel('count')\n",
    "plt.xlabel('year');\n",
    "\n",
    "plt.subplot(2,3,4)\n",
    "sns.violinplot(data = profile, x = 'age_group', y = 'income', order = age_order)\n",
    "plt.title('Income By Age Group')\n",
    "plt.ylabel('income group')\n",
    "plt.xlabel('age group');\n",
    "\n",
    "plt.subplot(2,3,5)\n",
    "sns.boxplot(data = profile, x = 'age_group', y = 'membership_in_years', order = age_order)\n",
    "plt.title('Membership Duration By Age Group')\n",
    "plt.ylabel('membership duration in years')\n",
    "plt.xlabel('age group');\n",
    "\n",
    "plt.subplot(2,3,6)\n",
    "sns.boxplot(data = profile, x = 'gender', y = 'membership_in_years')\n",
    "plt.title('Membership Duration By Gender')\n",
    "plt.ylabel('membership duration in years')\n",
    "plt.xlabel('gender');\n"
   ]
  },
  {
   "cell_type": "code",
   "execution_count": 21,
   "metadata": {},
   "outputs": [
    {
     "data": {
      "text/html": [
       "<div>\n",
       "<style scoped>\n",
       "    .dataframe tbody tr th:only-of-type {\n",
       "        vertical-align: middle;\n",
       "    }\n",
       "\n",
       "    .dataframe tbody tr th {\n",
       "        vertical-align: top;\n",
       "    }\n",
       "\n",
       "    .dataframe thead th {\n",
       "        text-align: right;\n",
       "    }\n",
       "</style>\n",
       "<table border=\"1\" class=\"dataframe\">\n",
       "  <thead>\n",
       "    <tr style=\"text-align: right;\">\n",
       "      <th></th>\n",
       "      <th>gender</th>\n",
       "      <th>age</th>\n",
       "      <th>id</th>\n",
       "      <th>became_member_on</th>\n",
       "      <th>income</th>\n",
       "      <th>age_group</th>\n",
       "      <th>income_group</th>\n",
       "      <th>membership_in_years</th>\n",
       "      <th>member_since</th>\n",
       "    </tr>\n",
       "  </thead>\n",
       "  <tbody>\n",
       "    <tr>\n",
       "      <th>16735</th>\n",
       "      <td>M</td>\n",
       "      <td>48</td>\n",
       "      <td>18502222e97f4a03b15b0e8e0768544d</td>\n",
       "      <td>2013-12-25</td>\n",
       "      <td>56000.0</td>\n",
       "      <td>40-49</td>\n",
       "      <td>50k-80k</td>\n",
       "      <td>7.9</td>\n",
       "      <td>2013</td>\n",
       "    </tr>\n",
       "    <tr>\n",
       "      <th>14430</th>\n",
       "      <td>M</td>\n",
       "      <td>42</td>\n",
       "      <td>a0899ec8221b4e37825a350b2179534c</td>\n",
       "      <td>2018-04-23</td>\n",
       "      <td>54000.0</td>\n",
       "      <td>40-49</td>\n",
       "      <td>50k-80k</td>\n",
       "      <td>3.6</td>\n",
       "      <td>2018</td>\n",
       "    </tr>\n",
       "    <tr>\n",
       "      <th>12027</th>\n",
       "      <td>M</td>\n",
       "      <td>64</td>\n",
       "      <td>4a3579f62ba94e8eb1cc6657d51a5deb</td>\n",
       "      <td>2015-12-24</td>\n",
       "      <td>89000.0</td>\n",
       "      <td>60-69</td>\n",
       "      <td>80k-100k</td>\n",
       "      <td>5.9</td>\n",
       "      <td>2015</td>\n",
       "    </tr>\n",
       "    <tr>\n",
       "      <th>8065</th>\n",
       "      <td>M</td>\n",
       "      <td>53</td>\n",
       "      <td>18a4097b43f548c3a34efb2699fdcfcb</td>\n",
       "      <td>2014-02-20</td>\n",
       "      <td>66000.0</td>\n",
       "      <td>50-59</td>\n",
       "      <td>50k-80k</td>\n",
       "      <td>7.7</td>\n",
       "      <td>2014</td>\n",
       "    </tr>\n",
       "    <tr>\n",
       "      <th>12756</th>\n",
       "      <td>M</td>\n",
       "      <td>54</td>\n",
       "      <td>d49af5885cad4f6d89bb9c2ad1d85997</td>\n",
       "      <td>2018-03-25</td>\n",
       "      <td>36000.0</td>\n",
       "      <td>50-59</td>\n",
       "      <td>&lt;50k</td>\n",
       "      <td>3.6</td>\n",
       "      <td>2018</td>\n",
       "    </tr>\n",
       "  </tbody>\n",
       "</table>\n",
       "</div>"
      ],
      "text/plain": [
       "      gender  age                                id became_member_on   income  \\\n",
       "16735      M   48  18502222e97f4a03b15b0e8e0768544d       2013-12-25  56000.0   \n",
       "14430      M   42  a0899ec8221b4e37825a350b2179534c       2018-04-23  54000.0   \n",
       "12027      M   64  4a3579f62ba94e8eb1cc6657d51a5deb       2015-12-24  89000.0   \n",
       "8065       M   53  18a4097b43f548c3a34efb2699fdcfcb       2014-02-20  66000.0   \n",
       "12756      M   54  d49af5885cad4f6d89bb9c2ad1d85997       2018-03-25  36000.0   \n",
       "\n",
       "      age_group income_group  membership_in_years  member_since  \n",
       "16735     40-49      50k-80k                  7.9          2013  \n",
       "14430     40-49      50k-80k                  3.6          2018  \n",
       "12027     60-69     80k-100k                  5.9          2015  \n",
       "8065      50-59      50k-80k                  7.7          2014  \n",
       "12756     50-59         <50k                  3.6          2018  "
      ]
     },
     "execution_count": 21,
     "metadata": {},
     "output_type": "execute_result"
    }
   ],
   "source": [
    "profile.sample(5)"
   ]
  },
  {
   "cell_type": "code",
   "execution_count": 22,
   "metadata": {},
   "outputs": [
    {
     "data": {
      "text/plain": [
       "14825"
      ]
     },
     "execution_count": 22,
     "metadata": {},
     "output_type": "execute_result"
    }
   ],
   "source": [
    "profile.id.nunique()"
   ]
  },
  {
   "cell_type": "markdown",
   "metadata": {},
   "source": [
    "### profile dataset EDA Insight\n",
    "- 17000 rows and 5 columns in total\n",
    "- 2175 missing values in the id and income column (removed)\n",
    "- No duplicated id, means no duplicated customer record\n",
    "- Become_memeber_on column needs to convert to datetime type and add a new column: membership_in_years for membership duration calculated in years(done)\n",
    "- age column contains outliers(age=118), which seems not true in reality (removed)\n",
    "- Add a new column: age_group column to categorize customer based on age (done)\n",
    "- Add a new column: income_group column to categorize customer based on income (done)"
   ]
  },
  {
   "cell_type": "markdown",
   "metadata": {},
   "source": [
    "## transcript dataset"
   ]
  },
  {
   "cell_type": "code",
   "execution_count": 23,
   "metadata": {},
   "outputs": [
    {
     "data": {
      "text/html": [
       "<div>\n",
       "<style scoped>\n",
       "    .dataframe tbody tr th:only-of-type {\n",
       "        vertical-align: middle;\n",
       "    }\n",
       "\n",
       "    .dataframe tbody tr th {\n",
       "        vertical-align: top;\n",
       "    }\n",
       "\n",
       "    .dataframe thead th {\n",
       "        text-align: right;\n",
       "    }\n",
       "</style>\n",
       "<table border=\"1\" class=\"dataframe\">\n",
       "  <thead>\n",
       "    <tr style=\"text-align: right;\">\n",
       "      <th></th>\n",
       "      <th>person</th>\n",
       "      <th>event</th>\n",
       "      <th>value</th>\n",
       "      <th>time</th>\n",
       "    </tr>\n",
       "  </thead>\n",
       "  <tbody>\n",
       "    <tr>\n",
       "      <th>0</th>\n",
       "      <td>78afa995795e4d85b5d9ceeca43f5fef</td>\n",
       "      <td>offer received</td>\n",
       "      <td>{'offer id': '9b98b8c7a33c4b65b9aebfe6a799e6d9'}</td>\n",
       "      <td>0</td>\n",
       "    </tr>\n",
       "    <tr>\n",
       "      <th>1</th>\n",
       "      <td>a03223e636434f42ac4c3df47e8bac43</td>\n",
       "      <td>offer received</td>\n",
       "      <td>{'offer id': '0b1e1539f2cc45b7b9fa7c272da2e1d7'}</td>\n",
       "      <td>0</td>\n",
       "    </tr>\n",
       "    <tr>\n",
       "      <th>2</th>\n",
       "      <td>e2127556f4f64592b11af22de27a7932</td>\n",
       "      <td>offer received</td>\n",
       "      <td>{'offer id': '2906b810c7d4411798c6938adc9daaa5'}</td>\n",
       "      <td>0</td>\n",
       "    </tr>\n",
       "    <tr>\n",
       "      <th>3</th>\n",
       "      <td>8ec6ce2a7e7949b1bf142def7d0e0586</td>\n",
       "      <td>offer received</td>\n",
       "      <td>{'offer id': 'fafdcd668e3743c1bb461111dcafc2a4'}</td>\n",
       "      <td>0</td>\n",
       "    </tr>\n",
       "    <tr>\n",
       "      <th>4</th>\n",
       "      <td>68617ca6246f4fbc85e91a2a49552598</td>\n",
       "      <td>offer received</td>\n",
       "      <td>{'offer id': '4d5c57ea9a6940dd891ad53e9dbe8da0'}</td>\n",
       "      <td>0</td>\n",
       "    </tr>\n",
       "  </tbody>\n",
       "</table>\n",
       "</div>"
      ],
      "text/plain": [
       "                             person           event  \\\n",
       "0  78afa995795e4d85b5d9ceeca43f5fef  offer received   \n",
       "1  a03223e636434f42ac4c3df47e8bac43  offer received   \n",
       "2  e2127556f4f64592b11af22de27a7932  offer received   \n",
       "3  8ec6ce2a7e7949b1bf142def7d0e0586  offer received   \n",
       "4  68617ca6246f4fbc85e91a2a49552598  offer received   \n",
       "\n",
       "                                              value  time  \n",
       "0  {'offer id': '9b98b8c7a33c4b65b9aebfe6a799e6d9'}     0  \n",
       "1  {'offer id': '0b1e1539f2cc45b7b9fa7c272da2e1d7'}     0  \n",
       "2  {'offer id': '2906b810c7d4411798c6938adc9daaa5'}     0  \n",
       "3  {'offer id': 'fafdcd668e3743c1bb461111dcafc2a4'}     0  \n",
       "4  {'offer id': '4d5c57ea9a6940dd891ad53e9dbe8da0'}     0  "
      ]
     },
     "execution_count": 23,
     "metadata": {},
     "output_type": "execute_result"
    }
   ],
   "source": [
    "transcript.head()"
   ]
  },
  {
   "cell_type": "code",
   "execution_count": 24,
   "metadata": {},
   "outputs": [
    {
     "name": "stdout",
     "output_type": "stream",
     "text": [
      "<class 'pandas.core.frame.DataFrame'>\n",
      "RangeIndex: 306534 entries, 0 to 306533\n",
      "Data columns (total 4 columns):\n",
      " #   Column  Non-Null Count   Dtype \n",
      "---  ------  --------------   ----- \n",
      " 0   person  306534 non-null  object\n",
      " 1   event   306534 non-null  object\n",
      " 2   value   306534 non-null  object\n",
      " 3   time    306534 non-null  int64 \n",
      "dtypes: int64(1), object(3)\n",
      "memory usage: 9.4+ MB\n"
     ]
    }
   ],
   "source": [
    "transcript.info()"
   ]
  },
  {
   "cell_type": "code",
   "execution_count": 25,
   "metadata": {},
   "outputs": [
    {
     "data": {
      "text/html": [
       "<div>\n",
       "<style scoped>\n",
       "    .dataframe tbody tr th:only-of-type {\n",
       "        vertical-align: middle;\n",
       "    }\n",
       "\n",
       "    .dataframe tbody tr th {\n",
       "        vertical-align: top;\n",
       "    }\n",
       "\n",
       "    .dataframe thead th {\n",
       "        text-align: right;\n",
       "    }\n",
       "</style>\n",
       "<table border=\"1\" class=\"dataframe\">\n",
       "  <thead>\n",
       "    <tr style=\"text-align: right;\">\n",
       "      <th></th>\n",
       "      <th>time</th>\n",
       "    </tr>\n",
       "  </thead>\n",
       "  <tbody>\n",
       "    <tr>\n",
       "      <th>count</th>\n",
       "      <td>306534.000000</td>\n",
       "    </tr>\n",
       "    <tr>\n",
       "      <th>mean</th>\n",
       "      <td>366.382940</td>\n",
       "    </tr>\n",
       "    <tr>\n",
       "      <th>std</th>\n",
       "      <td>200.326314</td>\n",
       "    </tr>\n",
       "    <tr>\n",
       "      <th>min</th>\n",
       "      <td>0.000000</td>\n",
       "    </tr>\n",
       "    <tr>\n",
       "      <th>25%</th>\n",
       "      <td>186.000000</td>\n",
       "    </tr>\n",
       "    <tr>\n",
       "      <th>50%</th>\n",
       "      <td>408.000000</td>\n",
       "    </tr>\n",
       "    <tr>\n",
       "      <th>75%</th>\n",
       "      <td>528.000000</td>\n",
       "    </tr>\n",
       "    <tr>\n",
       "      <th>max</th>\n",
       "      <td>714.000000</td>\n",
       "    </tr>\n",
       "  </tbody>\n",
       "</table>\n",
       "</div>"
      ],
      "text/plain": [
       "                time\n",
       "count  306534.000000\n",
       "mean      366.382940\n",
       "std       200.326314\n",
       "min         0.000000\n",
       "25%       186.000000\n",
       "50%       408.000000\n",
       "75%       528.000000\n",
       "max       714.000000"
      ]
     },
     "execution_count": 25,
     "metadata": {},
     "output_type": "execute_result"
    }
   ],
   "source": [
    "transcript.describe()"
   ]
  },
  {
   "cell_type": "code",
   "execution_count": 26,
   "metadata": {},
   "outputs": [
    {
     "data": {
      "text/plain": [
       "person    0\n",
       "event     0\n",
       "value     0\n",
       "time      0\n",
       "dtype: int64"
      ]
     },
     "execution_count": 26,
     "metadata": {},
     "output_type": "execute_result"
    }
   ],
   "source": [
    "transcript.isnull().sum()"
   ]
  },
  {
   "cell_type": "code",
   "execution_count": 27,
   "metadata": {},
   "outputs": [
    {
     "name": "stdout",
     "output_type": "stream",
     "text": [
      "The number of unique customer id in transcript: 17000\n",
      "The number of unique customer id in profile: 14825\n",
      "The numer of ids in both transcript and profile datasets: 14825\n"
     ]
    }
   ],
   "source": [
    "print('The number of unique customer id in transcript: {}'.format(transcript.person.nunique()))\n",
    "print('The number of unique customer id in profile: {}'.format(profile.id.nunique()))\n",
    "print('The numer of ids in both transcript and profile datasets: {}'\\\n",
    "      .format(len(set(transcript.person.unique()).intersection(set(profile.id.unique())))))"
   ]
  },
  {
   "cell_type": "code",
   "execution_count": 28,
   "metadata": {},
   "outputs": [
    {
     "name": "stdout",
     "output_type": "stream",
     "text": [
      "(amount)              138953\n",
      "(offer id)            134002\n",
      "(offer_id, reward)     33579\n",
      "Name: value, dtype: int64\n"
     ]
    }
   ],
   "source": [
    "# Check keys in value column\n",
    "\n",
    "value_keys = transcript['value'].apply(lambda x: x.keys())\n",
    "print(value_keys.value_counts())"
   ]
  },
  {
   "cell_type": "code",
   "execution_count": 29,
   "metadata": {},
   "outputs": [],
   "source": [
    "def clean_value_col(df=transcript):\n",
    "    '''\n",
    "    INPUT:\n",
    "    df - a dataframe contains value column\n",
    "    \n",
    "    OUTPUT:\n",
    "    df - a dataframe with new columns: offer_id, reward, spent separated from value column\n",
    "    '''\n",
    "    # Extract key-values from value column and create new columns\n",
    "    df['offer_id'] = df['value'].apply(lambda x: x.get('offer_id') if x.get('offer id')==None else x.get('offer id'))\n",
    "    df['spent'] = df['value'].apply(lambda x: x.get('amount'))\n",
    "    df['gained'] = df['value'].apply(lambda x: x.get('reward'))\n",
    "    \n",
    "    # Drop 'value' column \n",
    "    df.drop('value', axis=1, inplace=True)\n",
    "    \n",
    "    # Replace NANs\n",
    "    df.fillna(0 , inplace=True)\n",
    "    \n",
    "    return df\n",
    "\n",
    "transcript = clean_value_col()"
   ]
  },
  {
   "cell_type": "code",
   "execution_count": 30,
   "metadata": {},
   "outputs": [
    {
     "name": "stdout",
     "output_type": "stream",
     "text": [
      "The number of duplicates: 397\n"
     ]
    },
    {
     "data": {
      "text/plain": [
       "(306137, 6)"
      ]
     },
     "execution_count": 30,
     "metadata": {},
     "output_type": "execute_result"
    }
   ],
   "source": [
    "# Check duplicates\n",
    "# A duplicate is defined as person, offer_id, event, time, spent are all same\n",
    "\n",
    "print('The number of duplicates: {}'.format(transcript[transcript.duplicated(subset=['person','offer_id','event','time','spent'])].shape[0]))\n",
    "transcript = transcript.drop_duplicates(subset=['person','offer_id','event','time','spent'])\n",
    "transcript.shape"
   ]
  },
  {
   "cell_type": "code",
   "execution_count": 31,
   "metadata": {},
   "outputs": [
    {
     "data": {
      "text/html": [
       "<div>\n",
       "<style scoped>\n",
       "    .dataframe tbody tr th:only-of-type {\n",
       "        vertical-align: middle;\n",
       "    }\n",
       "\n",
       "    .dataframe tbody tr th {\n",
       "        vertical-align: top;\n",
       "    }\n",
       "\n",
       "    .dataframe thead th {\n",
       "        text-align: right;\n",
       "    }\n",
       "</style>\n",
       "<table border=\"1\" class=\"dataframe\">\n",
       "  <thead>\n",
       "    <tr style=\"text-align: right;\">\n",
       "      <th></th>\n",
       "      <th>person</th>\n",
       "      <th>event</th>\n",
       "      <th>time</th>\n",
       "      <th>offer_id</th>\n",
       "      <th>spent</th>\n",
       "      <th>gained</th>\n",
       "    </tr>\n",
       "  </thead>\n",
       "  <tbody>\n",
       "    <tr>\n",
       "      <th>195018</th>\n",
       "      <td>e7d5895029ec4bbe859a9bf13a0ff13a</td>\n",
       "      <td>transaction</td>\n",
       "      <td>474</td>\n",
       "      <td>0</td>\n",
       "      <td>17.97</td>\n",
       "      <td>0.0</td>\n",
       "    </tr>\n",
       "    <tr>\n",
       "      <th>306517</th>\n",
       "      <td>3408fd05c781401f8442fb6dbaaea9c7</td>\n",
       "      <td>transaction</td>\n",
       "      <td>714</td>\n",
       "      <td>0</td>\n",
       "      <td>11.70</td>\n",
       "      <td>0.0</td>\n",
       "    </tr>\n",
       "    <tr>\n",
       "      <th>202966</th>\n",
       "      <td>8df3bb97a75a47b08c87d2cc3187eeb7</td>\n",
       "      <td>offer received</td>\n",
       "      <td>504</td>\n",
       "      <td>2298d6c36e964ae4a3e7e9706d1fb8c2</td>\n",
       "      <td>0.00</td>\n",
       "      <td>0.0</td>\n",
       "    </tr>\n",
       "    <tr>\n",
       "      <th>144426</th>\n",
       "      <td>ccd97c93c5544596847e18af79d555ba</td>\n",
       "      <td>offer completed</td>\n",
       "      <td>384</td>\n",
       "      <td>fafdcd668e3743c1bb461111dcafc2a4</td>\n",
       "      <td>0.00</td>\n",
       "      <td>2.0</td>\n",
       "    </tr>\n",
       "    <tr>\n",
       "      <th>240025</th>\n",
       "      <td>637b71c75f1444e38e2e361746590e5a</td>\n",
       "      <td>transaction</td>\n",
       "      <td>558</td>\n",
       "      <td>0</td>\n",
       "      <td>7.15</td>\n",
       "      <td>0.0</td>\n",
       "    </tr>\n",
       "  </tbody>\n",
       "</table>\n",
       "</div>"
      ],
      "text/plain": [
       "                                  person            event  time  \\\n",
       "195018  e7d5895029ec4bbe859a9bf13a0ff13a      transaction   474   \n",
       "306517  3408fd05c781401f8442fb6dbaaea9c7      transaction   714   \n",
       "202966  8df3bb97a75a47b08c87d2cc3187eeb7   offer received   504   \n",
       "144426  ccd97c93c5544596847e18af79d555ba  offer completed   384   \n",
       "240025  637b71c75f1444e38e2e361746590e5a      transaction   558   \n",
       "\n",
       "                                offer_id  spent  gained  \n",
       "195018                                 0  17.97     0.0  \n",
       "306517                                 0  11.70     0.0  \n",
       "202966  2298d6c36e964ae4a3e7e9706d1fb8c2   0.00     0.0  \n",
       "144426  fafdcd668e3743c1bb461111dcafc2a4   0.00     2.0  \n",
       "240025                                 0   7.15     0.0  "
      ]
     },
     "execution_count": 31,
     "metadata": {},
     "output_type": "execute_result"
    }
   ],
   "source": [
    "transcript.sample(5)"
   ]
  },
  {
   "cell_type": "code",
   "execution_count": 56,
   "metadata": {},
   "outputs": [
    {
     "data": {
      "image/png": "[encoded data removed]",
      "text/plain": [
       "<Figure size 1440x360 with 2 Axes>"
      ]
     },
     "metadata": {},
     "output_type": "display_data"
    }
   ],
   "source": [
    "plt.figure(figsize=[20,5])\n",
    "color = sns.color_palette()[0]\n",
    "sns.set_style(\"white\")\n",
    "\n",
    "plt.subplot(1,2,1)\n",
    "transcript.event.value_counts().plot(kind='bar', color = color)\n",
    "plt.title('Distribution of Customer Event')\n",
    "plt.ylabel('Count')\n",
    "plt.xticks(rotation=45);\n",
    "\n",
    "plt.subplot(1,2,2)\n",
    "transcript.time.hist(bins=20, color=color)\n",
    "plt.title('Distribution of Customer Reaction Time')\n",
    "plt.ylabel('Count')\n",
    "plt.xlabel('Time in Hours');\n"
   ]
  },
  {
   "cell_type": "code",
   "execution_count": 33,
   "metadata": {},
   "outputs": [
    {
     "data": {
      "text/plain": [
       "(306137, 19)"
      ]
     },
     "execution_count": 33,
     "metadata": {},
     "output_type": "execute_result"
    }
   ],
   "source": [
    "# Combine three datasets together\n",
    "\n",
    "# merge transtript and portfolio\n",
    "portfolio = portfolio.rename(columns={'id': 'offer_id'})\n",
    "starbucks = pd.merge(transcript, portfolio, on='offer_id', how='left')\n",
    "\n",
    "# merge with profile\n",
    "profile = profile.rename(columns={'id': 'person'})\n",
    "starbucks = pd.merge(starbucks, profile, on='person', how='left')\n",
    "\n",
    "starbucks.shape"
   ]
  },
  {
   "cell_type": "code",
   "execution_count": 34,
   "metadata": {},
   "outputs": [
    {
     "data": {
      "text/plain": [
       "person                 0.000000\n",
       "event                  0.000000\n",
       "time                   0.000000\n",
       "offer_id               0.000000\n",
       "spent                  0.000000\n",
       "gained                 0.000000\n",
       "reward                 0.453892\n",
       "channels               0.453892\n",
       "difficulty             0.453892\n",
       "duration               0.453892\n",
       "offer_type             0.453892\n",
       "gender                 0.110241\n",
       "age                    0.110241\n",
       "became_member_on       0.110241\n",
       "income                 0.110241\n",
       "age_group              0.110241\n",
       "income_group           0.110241\n",
       "membership_in_years    0.110241\n",
       "member_since           0.110241\n",
       "dtype: float64"
      ]
     },
     "execution_count": 34,
     "metadata": {},
     "output_type": "execute_result"
    }
   ],
   "source": [
    "# Check missing value percentage in merged dataset starbucks\n",
    "\n",
    "starbucks.isnull().sum() / starbucks.shape[0]"
   ]
  },
  {
   "cell_type": "code",
   "execution_count": 35,
   "metadata": {},
   "outputs": [
    {
     "data": {
      "text/html": [
       "<div>\n",
       "<style scoped>\n",
       "    .dataframe tbody tr th:only-of-type {\n",
       "        vertical-align: middle;\n",
       "    }\n",
       "\n",
       "    .dataframe tbody tr th {\n",
       "        vertical-align: top;\n",
       "    }\n",
       "\n",
       "    .dataframe thead th {\n",
       "        text-align: right;\n",
       "    }\n",
       "</style>\n",
       "<table border=\"1\" class=\"dataframe\">\n",
       "  <thead>\n",
       "    <tr style=\"text-align: right;\">\n",
       "      <th></th>\n",
       "      <th>person</th>\n",
       "      <th>event</th>\n",
       "      <th>time</th>\n",
       "      <th>offer_id</th>\n",
       "      <th>spent</th>\n",
       "      <th>gained</th>\n",
       "      <th>reward</th>\n",
       "      <th>channels</th>\n",
       "      <th>difficulty</th>\n",
       "      <th>duration</th>\n",
       "      <th>offer_type</th>\n",
       "      <th>gender</th>\n",
       "      <th>age</th>\n",
       "      <th>became_member_on</th>\n",
       "      <th>income</th>\n",
       "      <th>age_group</th>\n",
       "      <th>income_group</th>\n",
       "      <th>membership_in_years</th>\n",
       "      <th>member_since</th>\n",
       "    </tr>\n",
       "  </thead>\n",
       "  <tbody>\n",
       "    <tr>\n",
       "      <th>283778</th>\n",
       "      <td>d9bd7e93629d4a31a1ee88d082ca5844</td>\n",
       "      <td>offer completed</td>\n",
       "      <td>630</td>\n",
       "      <td>ae264e3637204a6fb9bb56bc8210ddfd</td>\n",
       "      <td>0.00</td>\n",
       "      <td>10.0</td>\n",
       "      <td>10.0</td>\n",
       "      <td>[email, mobile, social]</td>\n",
       "      <td>10.0</td>\n",
       "      <td>7.0</td>\n",
       "      <td>bogo</td>\n",
       "      <td>M</td>\n",
       "      <td>80.0</td>\n",
       "      <td>2015-09-26</td>\n",
       "      <td>70000.0</td>\n",
       "      <td>&gt;=70</td>\n",
       "      <td>50k-80k</td>\n",
       "      <td>6.1</td>\n",
       "      <td>2015.0</td>\n",
       "    </tr>\n",
       "    <tr>\n",
       "      <th>37549</th>\n",
       "      <td>6ab082b797c54160b62417326d5f0c39</td>\n",
       "      <td>transaction</td>\n",
       "      <td>78</td>\n",
       "      <td>0</td>\n",
       "      <td>13.89</td>\n",
       "      <td>0.0</td>\n",
       "      <td>NaN</td>\n",
       "      <td>NaN</td>\n",
       "      <td>NaN</td>\n",
       "      <td>NaN</td>\n",
       "      <td>NaN</td>\n",
       "      <td>F</td>\n",
       "      <td>59.0</td>\n",
       "      <td>2017-10-23</td>\n",
       "      <td>57000.0</td>\n",
       "      <td>50-59</td>\n",
       "      <td>50k-80k</td>\n",
       "      <td>4.1</td>\n",
       "      <td>2017.0</td>\n",
       "    </tr>\n",
       "    <tr>\n",
       "      <th>250452</th>\n",
       "      <td>acc7e5f4e14a4297a80ec65c170c9c4d</td>\n",
       "      <td>offer received</td>\n",
       "      <td>576</td>\n",
       "      <td>ae264e3637204a6fb9bb56bc8210ddfd</td>\n",
       "      <td>0.00</td>\n",
       "      <td>0.0</td>\n",
       "      <td>10.0</td>\n",
       "      <td>[email, mobile, social]</td>\n",
       "      <td>10.0</td>\n",
       "      <td>7.0</td>\n",
       "      <td>bogo</td>\n",
       "      <td>F</td>\n",
       "      <td>72.0</td>\n",
       "      <td>2017-01-13</td>\n",
       "      <td>87000.0</td>\n",
       "      <td>&gt;=70</td>\n",
       "      <td>80k-100k</td>\n",
       "      <td>4.8</td>\n",
       "      <td>2017.0</td>\n",
       "    </tr>\n",
       "  </tbody>\n",
       "</table>\n",
       "</div>"
      ],
      "text/plain": [
       "                                  person            event  time  \\\n",
       "283778  d9bd7e93629d4a31a1ee88d082ca5844  offer completed   630   \n",
       "37549   6ab082b797c54160b62417326d5f0c39      transaction    78   \n",
       "250452  acc7e5f4e14a4297a80ec65c170c9c4d   offer received   576   \n",
       "\n",
       "                                offer_id  spent  gained  reward  \\\n",
       "283778  ae264e3637204a6fb9bb56bc8210ddfd   0.00    10.0    10.0   \n",
       "37549                                  0  13.89     0.0     NaN   \n",
       "250452  ae264e3637204a6fb9bb56bc8210ddfd   0.00     0.0    10.0   \n",
       "\n",
       "                       channels  difficulty  duration offer_type gender   age  \\\n",
       "283778  [email, mobile, social]        10.0       7.0       bogo      M  80.0   \n",
       "37549                       NaN         NaN       NaN        NaN      F  59.0   \n",
       "250452  [email, mobile, social]        10.0       7.0       bogo      F  72.0   \n",
       "\n",
       "       became_member_on   income age_group income_group  membership_in_years  \\\n",
       "283778       2015-09-26  70000.0      >=70      50k-80k                  6.1   \n",
       "37549        2017-10-23  57000.0     50-59      50k-80k                  4.1   \n",
       "250452       2017-01-13  87000.0      >=70     80k-100k                  4.8   \n",
       "\n",
       "        member_since  \n",
       "283778        2015.0  \n",
       "37549         2017.0  \n",
       "250452        2017.0  "
      ]
     },
     "execution_count": 35,
     "metadata": {},
     "output_type": "execute_result"
    }
   ],
   "source": [
    "starbucks.sample(3)"
   ]
  },
  {
   "cell_type": "code",
   "execution_count": 57,
   "metadata": {},
   "outputs": [
    {
     "data": {
      "image/png": "[encoded data removed]",
      "text/plain": [
       "<Figure size 1584x576 with 2 Axes>"
      ]
     },
     "metadata": {},
     "output_type": "display_data"
    }
   ],
   "source": [
    "# Visualize combined data\n",
    "\n",
    "plt.figure(figsize = [22,8])\n",
    "\n",
    "sns.set_style(\"darkgrid\")\n",
    "sns.set_palette(\"muted\")\n",
    "\n",
    "plt.subplot(1,2,1)\n",
    "sns.countplot(data = starbucks, x = 'event', hue = 'income_group')\n",
    "plt.title('Income Distribution of Income Level By Customer Event')\n",
    "plt.ylabel('count')\n",
    "plt.xlabel('Event');\n",
    "\n",
    "plt.subplot(1,2,2)\n",
    "sns.countplot(data = starbucks, x = 'event', hue = 'gender')\n",
    "plt.title('Distributino of Customer Event By Gender')\n",
    "plt.ylabel('count')\n",
    "plt.xlabel('Event');"
   ]
  },
  {
   "cell_type": "code",
   "execution_count": 58,
   "metadata": {},
   "outputs": [
    {
     "data": {
      "image/png": "[encoded data removed]",
      "text/plain": [
       "<Figure size 792x432 with 1 Axes>"
      ]
     },
     "metadata": {},
     "output_type": "display_data"
    }
   ],
   "source": [
    "plt.figure(figsize=[11,6])\n",
    "sns.countplot(data = starbucks, x = 'age_group', hue = 'event', order = age_order)\n",
    "plt.legend(loc='upper right')\n",
    "plt.title('Age Distribution of Age By Customer Event')\n",
    "plt.ylabel('count')\n",
    "plt.xlabel('Age Group');"
   ]
  },
  {
   "cell_type": "code",
   "execution_count": 55,
   "metadata": {},
   "outputs": [
    {
     "data": {
      "image/png": "[encoded data removed]",
      "text/plain": [
       "<Figure size 576x288 with 1 Axes>"
      ]
     },
     "metadata": {},
     "output_type": "display_data"
    }
   ],
   "source": [
    "# Explore offer related records\n",
    "\n",
    "# Make a subset without 'transaction' even, which is not linked to any offer_id \n",
    "\n",
    "plt.figure(figsize=[8,4])\n",
    "sns.countplot(data = starbucks[starbucks['event'] != 'transaction'], x = 'offer_type', hue = 'event')\n",
    "plt.title('Distribution of Offer Type By Customer Event')\n",
    "plt.ylabel('count')\n",
    "plt.xlabel('Offer Type');\n"
   ]
  },
  {
   "cell_type": "code",
   "execution_count": 54,
   "metadata": {},
   "outputs": [
    {
     "data": {
      "image/png": "[encoded data removed]",
      "text/plain": [
       "<Figure size 1152x288 with 2 Axes>"
      ]
     },
     "metadata": {},
     "output_type": "display_data"
    }
   ],
   "source": [
    "# Explore money spent vs. gained\n",
    "\n",
    "plt.figure(figsize=[16,4])\n",
    "\n",
    "plt.subplot(1,2,1)\n",
    "spent_by_age = starbucks.dropna(subset=['age_group']).groupby('age_group').spent.mean()\n",
    "gained_by_age = starbucks.dropna(subset=['age_group']).groupby('age_group').gained.mean()\n",
    "money_age_group = pd.concat([spent_by_age, gained_by_age], axis=1)\n",
    "sns.lineplot(data = money_age_group, marker = 'o')\n",
    "plt.title('Average Money Spent vs. Gained By Age')\n",
    "plt.ylabel('USD');\n",
    "\n",
    "plt.subplot(1,2,2)\n",
    "spent_by_gender = starbucks.dropna(subset=['gender']).groupby('gender').spent.mean()\n",
    "gained_by_gender = starbucks.dropna(subset=['gender']).groupby('gender').gained.mean()\n",
    "money_gender = pd.concat([spent_by_gender, gained_by_gender], axis=1)\n",
    "sns.lineplot(data = money_gender, marker = 'o')\n",
    "plt.title('Average Money Spent vs. Gained By Gender')\n",
    "plt.ylabel('USD');\n"
   ]
  },
  {
   "cell_type": "code",
   "execution_count": 67,
   "metadata": {},
   "outputs": [
    {
     "data": {
      "image/png": "[encoded data removed]",
      "text/plain": [
       "<Figure size 1152x288 with 1 Axes>"
      ]
     },
     "metadata": {},
     "output_type": "display_data"
    }
   ],
   "source": [
    "# Explore time\n",
    "\n",
    "plt.figure(figsize=[16,4])\n",
    "sns.set_style(\"darkgrid\")\n",
    "sns.set_palette(\"muted\")\n",
    "\n",
    "# plt.subplot(1,2,1)\n",
    "# time_by_age = starbucks.dropna(subset=['age_group']).groupby('age_group').time.mean()\n",
    "# sns.lineplot(data = time_by_age, marker = 'o', order=age_order)\n",
    "# plt.title('Average Reaction Time By Age')\n",
    "# plt.ylabel('Time(hrs)');\n",
    "# #plt.savfig('avg_time_age.png');\n",
    "\n",
    "plt.subplot(1,2,2)\n",
    "time_by_offer = starbucks.dropna(subset=['offer_type']).groupby('offer_type').time.mean()\n",
    "sns.lineplot(data = time_by_offer, marker = 'o')\n",
    "plt.title('Average Reaction Time By Offer Type')\n",
    "plt.ylabel('Time(hrs)');\n",
    "#plt.savfig('avg_time_offer.png');"
   ]
  },
  {
   "cell_type": "markdown",
   "metadata": {},
   "source": [
    "### transcript dataset EDA Insight\n",
    "\n",
    "- 306534 rows and 4 columns in total, no missing values\n",
    "- 14825 out of 17000 customer ids from transcript dataset exist in profile dataset. \n",
    "- value column needs to split into several columns for each key-value pair in the series(done)\n",
    "- There are duplicates regarding to the same pereson, offer_id, spent, event, time. (removed)\n",
    "- Combine three dataset together for integrated analysis. portfolio dataset shares offer_id with transcript dataset. transcript dataset shares customer_id with profile dataset.(done, new merged dataset - starbucks)"
   ]
  },
  {
   "cell_type": "markdown",
   "metadata": {},
   "source": []
  },
  {
   "cell_type": "markdown",
   "metadata": {},
   "source": [
    "# Data Preparation\n",
    "\n",
    "\n",
    "1. From above data understanding, we know that there are 4 types of events: offer completed, offer received, offer viewed and transaction. But our data shows that we do not have any offer_id associated with transactions, because they are not recorded in the transcript event data. Thus, the first objective in data preprocessing is to define a methodology to assign offer_ids to specific transactions.\n",
    "\n",
    "2. Among three types of offers, BOGO and discount offers require customer to spend a certain amount of money in order to achieve the reward. On the other hand, informational offer that no need to spend money and no reward will be generated. The approach of how offers will be converted are different showed as belows:\n",
    "\n",
    "  - BOGO and discount offer: offer received -> offer viewed -> offer completed\n",
    "\n",
    "  - informational offer: offer received -> offer viewed \n",
    "  \n",
    "3. We noticed the data with event type in 'transaction' is not linked to a specific offer, which we don't have a clear indicator of which offer it is converted from. Therefore, we need to filter out. \n"
   ]
  },
  {
   "cell_type": "code",
   "execution_count": 40,
   "metadata": {},
   "outputs": [
    {
     "name": "stderr",
     "output_type": "stream",
     "text": [
      "/Users/Bella/opt/anaconda3/lib/python3.8/site-packages/pandas/util/_decorators.py:311: SettingWithCopyWarning: \n",
      "A value is trying to be set on a copy of a slice from a DataFrame\n",
      "\n",
      "See the caveats in the documentation: https://pandas.pydata.org/pandas-docs/stable/user_guide/indexing.html#returning-a-view-versus-a-copy\n",
      "  return func(*args, **kwargs)\n"
     ]
    }
   ],
   "source": [
    "def data_processing(df=starbucks):\n",
    "    '''\n",
    "    INPUT:\n",
    "    df - a dataframe combined three datasets(transcript, profile, portfolio)\n",
    "    \n",
    "    OUTPUT:\n",
    "    clean_df - a clean df for modeling\n",
    "    \n",
    "    data processing steps:\n",
    "      1. filter out unuseful data, including drop records missing values in gender,age,income, member_since, etc.\n",
    "      2. label encoding for feature engineering\n",
    "      3. rename column name\n",
    "      3. drop unuseful columns\n",
    "\n",
    "    '''\n",
    "    # Filter out 'transaction' records, which are not linked to any offer_id\n",
    "    clean_df = df[df['event'] != 'transaction']\n",
    "    clean_df.dropna(how='any', inplace=True)\n",
    "    \n",
    "    # Drop duplicates based person, offer_type, event, time, spent\n",
    "    clean_df = clean_df.drop_duplicates(subset=['person','offer_type','event','time','spent'])\n",
    "    \n",
    "    # label encoding \n",
    "    clean_df = clean_df.join(clean_df.channels.str.join('|').str.get_dummies())  # split channels column\n",
    "    clean_df = clean_df.join(pd.get_dummies(clean_df[['event','age_group','gender']]))\n",
    "    \n",
    "    # rename column name\n",
    "    clean_df = clean_df.rename(columns={'event_offer completed':'event_offer_completed', 'event_offer received':'event_offer_received',\\\n",
    "                           'vent_offer viewed':'vent_offer_viewed'})\n",
    "    \n",
    "    # drop columns\n",
    "    clean_df = clean_df.drop(['person','event','offer_id','channels','gender','age','age_group',\\\n",
    "                      'income_group', 'member_since', 'became_member_on'], axis=1)\n",
    "    \n",
    "    return clean_df\n",
    "\n",
    "clean_df = data_processing(starbucks)\n",
    "    "
   ]
  },
  {
   "cell_type": "code",
   "execution_count": 41,
   "metadata": {},
   "outputs": [
    {
     "name": "stdout",
     "output_type": "stream",
     "text": [
      "<class 'pandas.core.frame.DataFrame'>\n",
      "Int64Index: 147293 entries, 0 to 306130\n",
      "Data columns (total 26 columns):\n",
      " #   Column                 Non-Null Count   Dtype  \n",
      "---  ------                 --------------   -----  \n",
      " 0   time                   147293 non-null  int64  \n",
      " 1   spent                  147293 non-null  float64\n",
      " 2   gained                 147293 non-null  float64\n",
      " 3   reward                 147293 non-null  float64\n",
      " 4   difficulty             147293 non-null  float64\n",
      " 5   duration               147293 non-null  float64\n",
      " 6   offer_type             147293 non-null  object \n",
      " 7   income                 147293 non-null  float64\n",
      " 8   membership_in_years    147293 non-null  float64\n",
      " 9   email                  147293 non-null  int64  \n",
      " 10  mobile                 147293 non-null  int64  \n",
      " 11  social                 147293 non-null  int64  \n",
      " 12  web                    147293 non-null  int64  \n",
      " 13  event_offer_completed  147293 non-null  uint8  \n",
      " 14  event_offer_received   147293 non-null  uint8  \n",
      " 15  event_offer viewed     147293 non-null  uint8  \n",
      " 16  age_group_20-29        147293 non-null  uint8  \n",
      " 17  age_group_30-39        147293 non-null  uint8  \n",
      " 18  age_group_40-49        147293 non-null  uint8  \n",
      " 19  age_group_50-59        147293 non-null  uint8  \n",
      " 20  age_group_60-69        147293 non-null  uint8  \n",
      " 21  age_group_<20          147293 non-null  uint8  \n",
      " 22  age_group_>=70         147293 non-null  uint8  \n",
      " 23  gender_F               147293 non-null  uint8  \n",
      " 24  gender_M               147293 non-null  uint8  \n",
      " 25  gender_O               147293 non-null  uint8  \n",
      "dtypes: float64(7), int64(5), object(1), uint8(13)\n",
      "memory usage: 21.6+ MB\n"
     ]
    }
   ],
   "source": [
    "clean_df.info()"
   ]
  },
  {
   "cell_type": "code",
   "execution_count": 42,
   "metadata": {},
   "outputs": [
    {
     "data": {
      "text/html": [
       "<div>\n",
       "<style scoped>\n",
       "    .dataframe tbody tr th:only-of-type {\n",
       "        vertical-align: middle;\n",
       "    }\n",
       "\n",
       "    .dataframe tbody tr th {\n",
       "        vertical-align: top;\n",
       "    }\n",
       "\n",
       "    .dataframe thead th {\n",
       "        text-align: right;\n",
       "    }\n",
       "</style>\n",
       "<table border=\"1\" class=\"dataframe\">\n",
       "  <thead>\n",
       "    <tr style=\"text-align: right;\">\n",
       "      <th></th>\n",
       "      <th>time</th>\n",
       "      <th>spent</th>\n",
       "      <th>gained</th>\n",
       "      <th>reward</th>\n",
       "      <th>difficulty</th>\n",
       "      <th>duration</th>\n",
       "      <th>offer_type</th>\n",
       "      <th>income</th>\n",
       "      <th>membership_in_years</th>\n",
       "      <th>email</th>\n",
       "      <th>...</th>\n",
       "      <th>age_group_20-29</th>\n",
       "      <th>age_group_30-39</th>\n",
       "      <th>age_group_40-49</th>\n",
       "      <th>age_group_50-59</th>\n",
       "      <th>age_group_60-69</th>\n",
       "      <th>age_group_&lt;20</th>\n",
       "      <th>age_group_&gt;=70</th>\n",
       "      <th>gender_F</th>\n",
       "      <th>gender_M</th>\n",
       "      <th>gender_O</th>\n",
       "    </tr>\n",
       "  </thead>\n",
       "  <tbody>\n",
       "    <tr>\n",
       "      <th>1921</th>\n",
       "      <td>0</td>\n",
       "      <td>0.0</td>\n",
       "      <td>0.0</td>\n",
       "      <td>5.0</td>\n",
       "      <td>20.0</td>\n",
       "      <td>10.0</td>\n",
       "      <td>discount</td>\n",
       "      <td>82000.0</td>\n",
       "      <td>6.8</td>\n",
       "      <td>1</td>\n",
       "      <td>...</td>\n",
       "      <td>0</td>\n",
       "      <td>0</td>\n",
       "      <td>0</td>\n",
       "      <td>1</td>\n",
       "      <td>0</td>\n",
       "      <td>0</td>\n",
       "      <td>0</td>\n",
       "      <td>0</td>\n",
       "      <td>1</td>\n",
       "      <td>0</td>\n",
       "    </tr>\n",
       "    <tr>\n",
       "      <th>252672</th>\n",
       "      <td>576</td>\n",
       "      <td>0.0</td>\n",
       "      <td>0.0</td>\n",
       "      <td>5.0</td>\n",
       "      <td>20.0</td>\n",
       "      <td>10.0</td>\n",
       "      <td>discount</td>\n",
       "      <td>70000.0</td>\n",
       "      <td>3.8</td>\n",
       "      <td>1</td>\n",
       "      <td>...</td>\n",
       "      <td>0</td>\n",
       "      <td>0</td>\n",
       "      <td>0</td>\n",
       "      <td>0</td>\n",
       "      <td>1</td>\n",
       "      <td>0</td>\n",
       "      <td>0</td>\n",
       "      <td>0</td>\n",
       "      <td>1</td>\n",
       "      <td>0</td>\n",
       "    </tr>\n",
       "    <tr>\n",
       "      <th>251714</th>\n",
       "      <td>576</td>\n",
       "      <td>0.0</td>\n",
       "      <td>0.0</td>\n",
       "      <td>5.0</td>\n",
       "      <td>20.0</td>\n",
       "      <td>10.0</td>\n",
       "      <td>discount</td>\n",
       "      <td>69000.0</td>\n",
       "      <td>4.1</td>\n",
       "      <td>1</td>\n",
       "      <td>...</td>\n",
       "      <td>0</td>\n",
       "      <td>0</td>\n",
       "      <td>0</td>\n",
       "      <td>1</td>\n",
       "      <td>0</td>\n",
       "      <td>0</td>\n",
       "      <td>0</td>\n",
       "      <td>0</td>\n",
       "      <td>1</td>\n",
       "      <td>0</td>\n",
       "    </tr>\n",
       "  </tbody>\n",
       "</table>\n",
       "<p>3 rows × 26 columns</p>\n",
       "</div>"
      ],
      "text/plain": [
       "        time  spent  gained  reward  difficulty  duration offer_type   income  \\\n",
       "1921       0    0.0     0.0     5.0        20.0      10.0   discount  82000.0   \n",
       "252672   576    0.0     0.0     5.0        20.0      10.0   discount  70000.0   \n",
       "251714   576    0.0     0.0     5.0        20.0      10.0   discount  69000.0   \n",
       "\n",
       "        membership_in_years  email  ...  age_group_20-29  age_group_30-39  \\\n",
       "1921                    6.8      1  ...                0                0   \n",
       "252672                  3.8      1  ...                0                0   \n",
       "251714                  4.1      1  ...                0                0   \n",
       "\n",
       "        age_group_40-49  age_group_50-59  age_group_60-69  age_group_<20  \\\n",
       "1921                  0                1                0              0   \n",
       "252672                0                0                1              0   \n",
       "251714                0                1                0              0   \n",
       "\n",
       "        age_group_>=70  gender_F  gender_M  gender_O  \n",
       "1921                 0         0         1         0  \n",
       "252672               0         0         1         0  \n",
       "251714               0         0         1         0  \n",
       "\n",
       "[3 rows x 26 columns]"
      ]
     },
     "execution_count": 42,
     "metadata": {},
     "output_type": "execute_result"
    }
   ],
   "source": [
    "clean_df.sample(3)"
   ]
  },
  {
   "cell_type": "markdown",
   "metadata": {},
   "source": [
    "# Modeling\n",
    "\n",
    "The goal is to predict the best match of offer_type to give to a customer. The output should be discrete variables. Therefore, we choose classification models. Here, we will run three different models and pick the most optimize one.\n",
    "\n",
    "### Three ML algorithms:\n",
    "1. Decision Trees\n",
    "2. Random Forest\n",
    "3. K Nearest Neighbors(KNN)\n",
    "\n",
    "Since we use classification models, accuracy is the goal to achieve. There are some metrics provided by sklearn libary to measure the accuracy: \n",
    "\n",
    "### Metrics:\n",
    "1. Accuracy Score: the percent of correct predictions \n",
    "2. Confusion Matrix: a way to express how many of a classifier’s predictions were correct, and when incorrect, where the classifier got confused. \n",
    "3. Classification Report(Precision, F1-Score, Recall):\n",
    "    - Precision: the number of correctly identified members among the class.\n",
    "    - Recall: the number of class you find over the whole number of element of this class\n",
    "    - F1 Score: harmonic mean of Precision and Recall. F1 = 2 * (precision * recall) / (precision + recall)"
   ]
  },
  {
   "cell_type": "code",
   "execution_count": 43,
   "metadata": {},
   "outputs": [],
   "source": [
    "def data_classification_modeling(model, clean_df, target_var='offer_type'):\n",
    "    '''\n",
    "    INPUT:\n",
    "    model - a ML algorithm\n",
    "    clean_df - a clean dataframe generated from data_processing\n",
    "    target_var - the prediction target variable\n",
    "    \n",
    "    OUTPUT:\n",
    "    result_df - a dataframe contains the scores associatd with training and testing data set\n",
    "    '''\n",
    "    # Split dataset for training and testing\n",
    "\n",
    "    X = clean_df.drop(target_var, axis=1)\n",
    "    y = clean_df[target_var]\n",
    "\n",
    "    X_train, X_test, y_train, y_test = train_test_split(X, y, test_size=0.20, random_state=42)\n",
    "\n",
    "    print('Training data Shape X: {}, y: {}'.format(X_train.shape, y_train.shape))\n",
    "    print('Testing data Shape X: {}, y: {}'.format(X_test.shape, y_test.shape) )\n",
    "    \n",
    "    # Run prediction model\n",
    "    results = {}\n",
    "    \n",
    "    # Fit the model to the training data:\n",
    "    model.fit(X_train, y_train)\n",
    "    \n",
    "    # predict on the testing data:\n",
    "    y_pred_test = model.predict(X_test)\n",
    "\n",
    "    # Confusion matrix:\n",
    "    #confusion_matrix(y_pred_test, y_test)\n",
    "    \n",
    "    # Accuracy for testing data:\n",
    "    results['test accuracy'] = accuracy_score(y_pred_test, y_test)\n",
    "    \n",
    "    # F-score on testing data:\n",
    "    results['f1_score'] = fbeta_score(y_test, y_pred_test, beta = 0.5, average='weighted')\n",
    "    results['precision'] = precision_score(y_test, y_pred_test, average='micro')    \n",
    "    results['recall'] = recall_score(y_test, y_pred_test, average='micro')\n",
    "    \n",
    "    # ROC Score\n",
    "    #results['roc'] = roc_auc_score(y_test, y_pred_test).str\n",
    "    \n",
    "    result_df = pd.DataFrame(results, index=range(1)) \n",
    "    \n",
    "    return result_df"
   ]
  },
  {
   "cell_type": "code",
   "execution_count": 44,
   "metadata": {},
   "outputs": [
    {
     "name": "stdout",
     "output_type": "stream",
     "text": [
      "Training data Shape X: (117834, 25), y: (117834,)\n",
      "Testing data Shape X: (29459, 25), y: (29459,)\n",
      "Deecisin Tree Prediction Score:\n"
     ]
    },
    {
     "data": {
      "text/html": [
       "<div>\n",
       "<style scoped>\n",
       "    .dataframe tbody tr th:only-of-type {\n",
       "        vertical-align: middle;\n",
       "    }\n",
       "\n",
       "    .dataframe tbody tr th {\n",
       "        vertical-align: top;\n",
       "    }\n",
       "\n",
       "    .dataframe thead th {\n",
       "        text-align: right;\n",
       "    }\n",
       "</style>\n",
       "<table border=\"1\" class=\"dataframe\">\n",
       "  <thead>\n",
       "    <tr style=\"text-align: right;\">\n",
       "      <th></th>\n",
       "      <th>test accuracy</th>\n",
       "      <th>f1_score</th>\n",
       "      <th>precision</th>\n",
       "      <th>recall</th>\n",
       "    </tr>\n",
       "  </thead>\n",
       "  <tbody>\n",
       "    <tr>\n",
       "      <th>0</th>\n",
       "      <td>1.0</td>\n",
       "      <td>1.0</td>\n",
       "      <td>1.0</td>\n",
       "      <td>1.0</td>\n",
       "    </tr>\n",
       "  </tbody>\n",
       "</table>\n",
       "</div>"
      ],
      "text/plain": [
       "   test accuracy  f1_score  precision  recall\n",
       "0            1.0       1.0        1.0     1.0"
      ]
     },
     "execution_count": 44,
     "metadata": {},
     "output_type": "execute_result"
    }
   ],
   "source": [
    "# Decision Tree\n",
    "\n",
    "decision_tree = DecisionTreeClassifier(random_state = 42)\n",
    "dt_score = data_classification_modeling(decision_tree, clean_df, 'offer_type')\n",
    "print('Deecisin Tree Prediction Score:')\n",
    "dt_score"
   ]
  },
  {
   "cell_type": "code",
   "execution_count": 45,
   "metadata": {},
   "outputs": [
    {
     "name": "stdout",
     "output_type": "stream",
     "text": [
      "Training data Shape X: (117834, 25), y: (117834,)\n",
      "Testing data Shape X: (29459, 25), y: (29459,)\n",
      "Random Forest Prediction Score:\n"
     ]
    },
    {
     "data": {
      "text/html": [
       "<div>\n",
       "<style scoped>\n",
       "    .dataframe tbody tr th:only-of-type {\n",
       "        vertical-align: middle;\n",
       "    }\n",
       "\n",
       "    .dataframe tbody tr th {\n",
       "        vertical-align: top;\n",
       "    }\n",
       "\n",
       "    .dataframe thead th {\n",
       "        text-align: right;\n",
       "    }\n",
       "</style>\n",
       "<table border=\"1\" class=\"dataframe\">\n",
       "  <thead>\n",
       "    <tr style=\"text-align: right;\">\n",
       "      <th></th>\n",
       "      <th>test accuracy</th>\n",
       "      <th>f1_score</th>\n",
       "      <th>precision</th>\n",
       "      <th>recall</th>\n",
       "    </tr>\n",
       "  </thead>\n",
       "  <tbody>\n",
       "    <tr>\n",
       "      <th>0</th>\n",
       "      <td>1.0</td>\n",
       "      <td>1.0</td>\n",
       "      <td>1.0</td>\n",
       "      <td>1.0</td>\n",
       "    </tr>\n",
       "  </tbody>\n",
       "</table>\n",
       "</div>"
      ],
      "text/plain": [
       "   test accuracy  f1_score  precision  recall\n",
       "0            1.0       1.0        1.0     1.0"
      ]
     },
     "execution_count": 45,
     "metadata": {},
     "output_type": "execute_result"
    }
   ],
   "source": [
    "#Ranmdom Forest\n",
    "\n",
    "random_forest = RandomForestClassifier(random_state = 42)\n",
    "rf_score = data_classification_modeling(random_forest, clean_df, 'offer_type')\n",
    "print('Random Forest Prediction Score:')\n",
    "rf_score"
   ]
  },
  {
   "cell_type": "code",
   "execution_count": 46,
   "metadata": {},
   "outputs": [
    {
     "name": "stdout",
     "output_type": "stream",
     "text": [
      "Training data Shape X: (117834, 25), y: (117834,)\n",
      "Testing data Shape X: (29459, 25), y: (29459,)\n",
      "KNN Prediction Score:\n"
     ]
    },
    {
     "data": {
      "text/html": [
       "<div>\n",
       "<style scoped>\n",
       "    .dataframe tbody tr th:only-of-type {\n",
       "        vertical-align: middle;\n",
       "    }\n",
       "\n",
       "    .dataframe tbody tr th {\n",
       "        vertical-align: top;\n",
       "    }\n",
       "\n",
       "    .dataframe thead th {\n",
       "        text-align: right;\n",
       "    }\n",
       "</style>\n",
       "<table border=\"1\" class=\"dataframe\">\n",
       "  <thead>\n",
       "    <tr style=\"text-align: right;\">\n",
       "      <th></th>\n",
       "      <th>test accuracy</th>\n",
       "      <th>f1_score</th>\n",
       "      <th>precision</th>\n",
       "      <th>recall</th>\n",
       "    </tr>\n",
       "  </thead>\n",
       "  <tbody>\n",
       "    <tr>\n",
       "      <th>0</th>\n",
       "      <td>0.896195</td>\n",
       "      <td>0.897877</td>\n",
       "      <td>0.896195</td>\n",
       "      <td>0.896195</td>\n",
       "    </tr>\n",
       "  </tbody>\n",
       "</table>\n",
       "</div>"
      ],
      "text/plain": [
       "   test accuracy  f1_score  precision    recall\n",
       "0       0.896195  0.897877   0.896195  0.896195"
      ]
     },
     "execution_count": 46,
     "metadata": {},
     "output_type": "execute_result"
    }
   ],
   "source": [
    "# K Nearest Neighbors \n",
    "\n",
    "kneighbors = KNeighborsClassifier(n_neighbors=10, leaf_size=30)\n",
    "knn_score = data_classification_modeling(kneighbors, clean_df, 'offer_type')\n",
    "print('KNN Prediction Score:')\n",
    "knn_score"
   ]
  },
  {
   "cell_type": "markdown",
   "metadata": {},
   "source": [
    "# Eveluation & Refinement\n",
    "\n",
    "The scores for Desicion Tree and Random Forest are 'pretty'100% accuracy, which seems not real, could be overfitting.\n",
    "The KNeighbors Classifier has about 89% accuracy. Therefore, we choose KNN to proceed optimization in further.\n",
    "\n",
    "### Hyperparameter Tuning for K Knearest Neighbors Model\n",
    "(Due to the resource limitation of Local Machine) We choose several options for leaf_size and n_neighbors, instead of a larger range to run the process of finding the best match for the classification model.\n",
    "\n",
    "GridSearchCV is used to run exhaustive search over specified parameter values for an estimator."
   ]
  },
  {
   "cell_type": "code",
   "execution_count": 49,
   "metadata": {},
   "outputs": [
    {
     "name": "stdout",
     "output_type": "stream",
     "text": [
      "Fitting 5 folds for each of 9 candidates, totalling 45 fits\n",
      "Best leaf_size: 5\n",
      "Best n_neighbors: 3\n"
     ]
    }
   ],
   "source": [
    "X = clean_df.drop('offer_type', axis=1)\n",
    "y = clean_df['offer_type']\n",
    "\n",
    "X_train, X_test, y_train, y_test = train_test_split(X, y, test_size=0.20, random_state=42)\n",
    "\n",
    "leaf_size = [5,10,30]\n",
    "n_neighbors = [3, 5,10]\n",
    "\n",
    "# Convert to dictionary\n",
    "hyperparameters = dict(leaf_size=leaf_size, n_neighbors=n_neighbors)\n",
    "\n",
    "# Create new KNN object\n",
    "knn_2 = KNeighborsClassifier()\n",
    "\n",
    "# Use GridSearch\n",
    "clf = GridSearchCV(knn_2, hyperparameters, cv=5, verbose=True)\n",
    "\n",
    "# Fit the model\n",
    "best_model = clf.fit(X_train, y_train)\n",
    "\n",
    "#Print The value of best Hyperparameters\n",
    "best_leaf_size = best_model.best_estimator_.get_params()['leaf_size']\n",
    "best_n_neighbors = best_model.best_estimator_.get_params()['n_neighbors']\n",
    "print('Best leaf_size:', best_leaf_size)\n",
    "print('Best n_neighbors:', best_n_neighbors)"
   ]
  },
  {
   "cell_type": "code",
   "execution_count": 50,
   "metadata": {},
   "outputs": [
    {
     "name": "stdout",
     "output_type": "stream",
     "text": [
      "Training data Shape X: (117834, 25), y: (117834,)\n",
      "Testing data Shape X: (29459, 25), y: (29459,)\n",
      "KNN Prediction Score:\n"
     ]
    },
    {
     "data": {
      "text/html": [
       "<div>\n",
       "<style scoped>\n",
       "    .dataframe tbody tr th:only-of-type {\n",
       "        vertical-align: middle;\n",
       "    }\n",
       "\n",
       "    .dataframe tbody tr th {\n",
       "        vertical-align: top;\n",
       "    }\n",
       "\n",
       "    .dataframe thead th {\n",
       "        text-align: right;\n",
       "    }\n",
       "</style>\n",
       "<table border=\"1\" class=\"dataframe\">\n",
       "  <thead>\n",
       "    <tr style=\"text-align: right;\">\n",
       "      <th></th>\n",
       "      <th>test accuracy</th>\n",
       "      <th>f1_score</th>\n",
       "      <th>precision</th>\n",
       "      <th>recall</th>\n",
       "    </tr>\n",
       "  </thead>\n",
       "  <tbody>\n",
       "    <tr>\n",
       "      <th>0</th>\n",
       "      <td>0.929597</td>\n",
       "      <td>0.93025</td>\n",
       "      <td>0.929597</td>\n",
       "      <td>0.929597</td>\n",
       "    </tr>\n",
       "  </tbody>\n",
       "</table>\n",
       "</div>"
      ],
      "text/plain": [
       "   test accuracy  f1_score  precision    recall\n",
       "0       0.929597   0.93025   0.929597  0.929597"
      ]
     },
     "execution_count": 50,
     "metadata": {},
     "output_type": "execute_result"
    }
   ],
   "source": [
    "# Optimized Model\n",
    "\n",
    "best_knn = KNeighborsClassifier(n_neighbors=best_n_neighbors, leaf_size=best_leaf_size)\n",
    "best_score = data_classification_modeling(best_knn, clean_df, 'offer_type')\n",
    "print('KNN Prediction Score:')\n",
    "best_score"
   ]
  },
  {
   "cell_type": "markdown",
   "metadata": {},
   "source": [
    "# Conclusion\n",
    "\n",
    "\n",
    "#### Q1. What kind of offers does Starbucks provide? What characristics does each offer type have? \n",
    "  - There are three types of offers: BOGO, discount and informational offer.\n",
    "  - There are more BOGO and discount offers than informational offer.\n",
    "  - Informational offer doesn't require to spend money and no reward as a result, and it lasts shortest time about 3 days.\n",
    "  - BOGO is the best promotion offer to customers - cost less than discount to get more reward. It is ususally available for about 6 days, which is shorter than discount offers. \n",
    "  \n",
    "#### Q2. What are the demographic characteristics of members?\n",
    "  - Gender: There are more male than female in members\n",
    "  - Age: most members are between age 21-70, especially a large group of those are between 50-60. Only a small part of members are under 20. The number of male and female at the age of 20s and 30s are quite close.\n",
    "  - Income: It seems people whose annual income between 50k-80k are more likely to become a Starbucks member. While there are much more male member than female in who make less than 80k a year, we see there are more female member in the same income level above 80k a year. The income distribution of members under 40 are almost the same, compared to the older members.\n",
    "  - Membership: There are no obvious difference of average membership duration among age groups. Female members have longer membership duration in average. As the number of members grows year over year, it is always more male members than female members, except in year 2016. We see there are a little bit more female join Starbucks membership.\n",
    "  \n",
    "  \n",
    "#### Q3. How different do people react to the different promotion offers(transaciton characteristics)?\n",
    " - BOGO and Discunt type are sent to similar amount of customers. It turns out that more people completed discount type offer than BOGO type, while BOGO offer are viewed by more people than discount offer.\n",
    " - There are less percentage of people from 30-39 age group to complet offers.\n",
    " - Males spent much less money than females, but still gained simiar rewards.\n",
    " - Discount type offer takes longest for customer to make reaction.\n",
    "\n",
    "\n",
    "### Prediction \n",
    "#### Q4. Can we build a prediction engine to help determine what offer we should send to each customer? \n",
    "The KNN algorithm with leaf_size=5 and n_neighbors=3 turns out to be the best model to predict the offer type to send to a customer, with the accuracy about 93%."
   ]
  },
  {
   "cell_type": "markdown",
   "metadata": {},
   "source": [
    "# Future Inprovement\n",
    "\n",
    "- Find a better approach to measure the convertion of informational offer (maybe link to a transaction)\n",
    "- Fill missing value in gender/income/age instead of drop the rows with those values missing\n",
    "- Go deeper to the modeling part, such as try addtional models(SVM, etc). If possible, find better resource(Virtual Machine) to run refinement, find the most optimized model. Learn more about Machine Learning algorithm to consolidate the conclusion.\n",
    "- Extend analysis scope to the respond rate from customer as well as building the prediction engine."
   ]
  },
  {
   "cell_type": "code",
   "execution_count": null,
   "metadata": {},
   "outputs": [],
   "source": []
  }
 ],
 "metadata": {
  "kernelspec": {
   "display_name": "Python 3 (ipykernel)",
   "language": "python",
   "name": "python3"
  },
  "language_info": {
   "codemirror_mode": {
    "name": "ipython",
    "version": 3
   },
   "file_extension": ".py",
   "mimetype": "text/x-python",
   "name": "python",
   "nbconvert_exporter": "python",
   "pygments_lexer": "ipython3",
   "version": "3.8.11"
  }
 },
 "nbformat": 4,
 "nbformat_minor": 2
}
